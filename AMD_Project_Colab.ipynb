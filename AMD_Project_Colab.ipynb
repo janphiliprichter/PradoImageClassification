{
  "nbformat": 4,
  "nbformat_minor": 0,
  "metadata": {
    "colab": {
      "provenance": [],
      "collapsed_sections": [
        "GATb6PHvGIsi",
        "-398Eh2wGMz9",
        "v6cut3lIKpQi",
        "dk1iQ1ju5qZ1",
        "USqSZTakLzvu",
        "lN312MosK410",
        "qnLrJWsXKtdu",
        "rbzviGXtIVX9",
        "8q3n3ECBIaTv",
        "uO9GZlvKIvjy",
        "9rjvSMbgI0pL",
        "aQZOKdoYI4Da",
        "ufYsPtBWZdAD",
        "fL8xEZa6ZiRH",
        "QFZ-PYoWZ1mP",
        "9DCKcMzAJQVQ",
        "Wz2W8iugK-x3",
        "KZ85RwqZLDxx",
        "jx-5tNDjLJc_",
        "xdVb-i9hLPTY",
        "XbhK_xUGL79P",
        "o_YU_YxIMLRa",
        "V9qYKmu4MN1g",
        "D7l1vbL2MSkB",
        "pXhWHUPw04B3",
        "vWUrdUCq1Yz7",
        "2uyCzqoy1-uK",
        "IWr60pun1uCE"
      ],
      "machine_shape": "hm",
      "gpuType": "V100",
      "authorship_tag": "ABX9TyNi/rTuGGexcP/ohlxl4NPB",
      "include_colab_link": true
    },
    "kernelspec": {
      "name": "python3",
      "display_name": "Python 3"
    },
    "language_info": {
      "name": "python"
    },
    "accelerator": "GPU"
  },
  "cells": [
    {
      "cell_type": "markdown",
      "metadata": {
        "id": "view-in-github",
        "colab_type": "text"
      },
      "source": [
        "<a href=\"https://colab.research.google.com/github/janphiliprichter/PradoImageClassification/blob/main/AMD_Project_Colab.ipynb\" target=\"_parent\"><img src=\"https://colab.research.google.com/assets/colab-badge.svg\" alt=\"Open In Colab\"/></a>"
      ]
    },
    {
      "cell_type": "markdown",
      "source": [
        "# Installing and Importing Dependencies"
      ],
      "metadata": {
        "id": "EBWwmA6QGAkX"
      }
    },
    {
      "cell_type": "code",
      "source": [
        "!pip install visualkeras"
      ],
      "metadata": {
        "colab": {
          "base_uri": "https://localhost:8080/"
        },
        "id": "1MBzKZg_ID5v",
        "outputId": "c1ef9134-1793-41fc-9216-4f3aafb1ff59"
      },
      "execution_count": null,
      "outputs": [
        {
          "output_type": "stream",
          "name": "stdout",
          "text": [
            "Collecting visualkeras\n",
            "  Downloading visualkeras-0.0.2-py3-none-any.whl (12 kB)\n",
            "Requirement already satisfied: pillow>=6.2.0 in /usr/local/lib/python3.10/dist-packages (from visualkeras) (9.4.0)\n",
            "Requirement already satisfied: numpy>=1.18.1 in /usr/local/lib/python3.10/dist-packages (from visualkeras) (1.25.2)\n",
            "Collecting aggdraw>=1.3.11 (from visualkeras)\n",
            "  Downloading aggdraw-1.3.18.post0-cp310-cp310-manylinux_2_17_x86_64.manylinux2014_x86_64.whl (993 kB)\n",
            "\u001b[2K     \u001b[90m━━━━━━━━━━━━━━━━━━━━━━━━━━━━━━━━━━━━━━━━\u001b[0m \u001b[32m993.8/993.8 kB\u001b[0m \u001b[31m13.8 MB/s\u001b[0m eta \u001b[36m0:00:00\u001b[0m\n",
            "\u001b[?25hInstalling collected packages: aggdraw, visualkeras\n",
            "Successfully installed aggdraw-1.3.18.post0 visualkeras-0.0.2\n"
          ]
        }
      ]
    },
    {
      "cell_type": "code",
      "execution_count": null,
      "metadata": {
        "id": "hisoK-YhFnqe"
      },
      "outputs": [],
      "source": [
        "import os\n",
        "import requests\n",
        "from multiprocessing import cpu_count\n",
        "from multiprocessing.pool import ThreadPool\n",
        "import visualkeras as vk\n",
        "import pandas as pd\n",
        "import numpy as np\n",
        "from scipy.optimize import fsolve\n",
        "from math import exp\n",
        "import matplotlib.pyplot as plt\n",
        "import seaborn as sns\n",
        "from collections import defaultdict\n",
        "import tensorflow as tf\n",
        "import keras.backend as K\n",
        "from keras.layers import Layer\n",
        "from tensorflow.keras import Sequential, Model\n",
        "from tensorflow.keras.layers import Dense, Flatten, Conv2D, MaxPooling2D, \\\n",
        "    AveragePooling2D, BatchNormalization, ReLU, PReLU, ZeroPadding2D, \\\n",
        "    GlobalAveragePooling2D, Input, DepthwiseConv2D, Add, Activation, Lambda, RandomFlip\n",
        "from tensorflow.keras.optimizers import Adam\n",
        "from tensorflow.keras.losses import SparseCategoricalCrossentropy\n",
        "from tensorflow.keras.callbacks import CSVLogger\n",
        "from tensorflow.keras.applications.resnet_v2 import ResNet50V2\n",
        "from tensorflow.keras.applications.resnet_v2 import preprocess_input as resnet_v2_preproccessing\n",
        "from tensorflow.keras.applications.efficientnet_v2 import preprocess_input as efficientnet_preproccessing\n",
        "from tensorflow.keras.applications.efficientnet_v2 import EfficientNetV2B3\n",
        "from tensorflow.keras.applications.vgg19 import VGG19\n",
        "from tensorflow.keras.applications.vgg19 import preprocess_input as vgg_preproccessing\n",
        "from tensorflow.keras.applications.mobilenet_v2 import MobileNetV2\n",
        "from tensorflow.keras.applications.mobilenet_v2 import preprocess_input as mobilenet_preprocessing"
      ]
    },
    {
      "cell_type": "markdown",
      "source": [
        "# Helper Functions, Directories and Settings"
      ],
      "metadata": {
        "id": "GATb6PHvGIsi"
      }
    },
    {
      "cell_type": "markdown",
      "source": [
        "## Downloading URLs"
      ],
      "metadata": {
        "id": "-398Eh2wGMz9"
      }
    },
    {
      "cell_type": "code",
      "source": [
        "def download_url(args):\n",
        "    \"\"\"\n",
        "    Downloads a file from an url\n",
        "    :param args: Tuple containing the url and filename\n",
        "    :return: None\n",
        "    \"\"\"\n",
        "    url, filename = args[0], args[1]\n",
        "    try:\n",
        "      r = requests.get(url)\n",
        "      if r.status_code != 404:\n",
        "        with open(filename, \"wb\") as f:\n",
        "          f.write(r.content)\n",
        "\n",
        "    except Exception as e:\n",
        "      print(\"Exception in download_url():\", e)"
      ],
      "metadata": {
        "id": "yEyT3C7RGKvl"
      },
      "execution_count": null,
      "outputs": []
    },
    {
      "cell_type": "code",
      "source": [
        "def download_parallel(args):\n",
        "    \"\"\"\n",
        "    Downloads urls in parallel\n",
        "    :param args: List of tuples containing the url and filename\n",
        "    :return: None\n",
        "    \"\"\"\n",
        "    cpus = cpu_count()\n",
        "    threadpool = ThreadPool(cpus)\n",
        "    results = threadpool.imap_unordered(download_url, args)\n",
        "    threadpool.close()\n",
        "    threadpool.join()"
      ],
      "metadata": {
        "id": "Uk13CLjUGSIB"
      },
      "execution_count": null,
      "outputs": []
    },
    {
      "cell_type": "markdown",
      "source": [
        "## PCA Data Augmentation"
      ],
      "metadata": {
        "id": "v6cut3lIKpQi"
      }
    },
    {
      "cell_type": "markdown",
      "source": [
        "PCA Data Augmentation as by Krizhevsky\n",
        "\n",
        "Code obtained from: https://github.com/koshian2/PCAColorAugmentation/tree/master"
      ],
      "metadata": {
        "id": "rTdd14PwKpQ4"
      }
    },
    {
      "cell_type": "code",
      "source": [
        "class PCAColorAugmentationGPU(Layer):\n",
        "    \"\"\"\n",
        "    PCA colour augmentation layer to be used in a tensorflow model\n",
        "    \"\"\"\n",
        "    def __init__(self, std_deviation=0.1, clipping=False, scale=1.0, **kwargs):\n",
        "        super().__init__(**kwargs)\n",
        "        self.std_deviation = std_deviation\n",
        "        self.clipping = clipping\n",
        "        self.scale = scale\n",
        "\n",
        "    def build(self, input_shape):\n",
        "        return super().build(input_shape)\n",
        "\n",
        "    def augmentation(self, inputs):\n",
        "        # assume channels-last\n",
        "        input_shape = K.int_shape(inputs)\n",
        "        ranks = len(input_shape)\n",
        "        assert ranks >= 2 and ranks <=5\n",
        "        chs = input_shape[-1]\n",
        "\n",
        "        # swapaxis, reshape for calculating covariance matrix\n",
        "        # rank 2 = (batch, dims)\n",
        "        # rank 3 = (batch, step, dims)\n",
        "        if ranks <= 3:\n",
        "            x = inputs\n",
        "        # rank 4 = (batch, height, width, ch) -> (batch, dims, ch)\n",
        "        elif ranks == 4:\n",
        "            dims = input_shape[1] * input_shape[2]\n",
        "            x = tf.reshape(inputs, (-1, dims, chs))\n",
        "        # rank 5 = (batch, D, H, W, ch) -> (batch, D, dims, ch)\n",
        "        elif ranks == 5:\n",
        "            dims = input_shape[2] * input_shape[3]\n",
        "            depth = input_shape[1]\n",
        "            x = tf.reshape(inputs, (-1, depth, dims, chs))\n",
        "\n",
        "        # scaling-factor\n",
        "        calculate_axis, reduce_axis = ranks-1, ranks-2\n",
        "        if ranks == 3:\n",
        "            calculate_axis, reduce_axis = 1, 2\n",
        "        elif ranks >= 4:\n",
        "            calculate_axis, reduce_axis = ranks-3, ranks-2\n",
        "        C = 1.0\n",
        "        if ranks >= 3:\n",
        "            C = K.int_shape(x)[reduce_axis]\n",
        "        var = K.var(x, axis=calculate_axis, keepdims=True)\n",
        "        scaling_factors = tf.sqrt(C / tf.reduce_sum(var, axis=reduce_axis, keepdims=True))\n",
        "        # scaling\n",
        "        x = x * scaling_factors\n",
        "\n",
        "        # subtract mean for cov matrix\n",
        "        mean = tf.reduce_mean(x, axis=calculate_axis, keepdims=True)\n",
        "        x -= mean\n",
        "\n",
        "        # covariance matrix\n",
        "        cov_n = max(K.int_shape(x)[calculate_axis] - 1, 1)\n",
        "        # cov (since x was normalized)\n",
        "        cov = tf.matmul(x, x, transpose_a=True) / cov_n\n",
        "\n",
        "        # eigen value(S), eigen vector(U)\n",
        "        S, U, V = tf.linalg.svd(cov)\n",
        "        # eigen_values vs eigen_vectors\n",
        "        # rank = 2 : (dims) vs (dims, dims)\n",
        "        # rank = 3 : (batch, dims) vs (batch, dims, dims)\n",
        "        # rank = 4 : (batch, ch) vs (batch, ch, ch)\n",
        "        # rank = 5 : (batch, D, ch) vs (batch, D, ch, ch)\n",
        "\n",
        "        # random values\n",
        "        # if rank2 : get differnt random variable by sample\n",
        "        if ranks == 2:\n",
        "            rand = tf.random.normal(tf.shape(inputs), mean=0.0, stddev=self.std_deviation)\n",
        "            delta = tf.matmul(rand*tf.expand_dims(S, axis=0), U)\n",
        "        else:\n",
        "            rand = tf.random.normal(tf.shape(S), mean=0.0, stddev=self.std_deviation)\n",
        "            delta_original = tf.squeeze(tf.matmul(U, tf.expand_dims(rand*S, axis=-1)), axis=-1)\n",
        "\n",
        "        # adjust delta shape\n",
        "        # rank = 3 : (batch, dims) -> (batch, 1[step], dims)\n",
        "        # rank = 4 : (batch, ch) -> (batch, 1[ndim], ch)\n",
        "        # rank = 5 : (batch, D, ch) -> (batch, D, 1[ndim], ch)\n",
        "        if ranks == 3:\n",
        "            delta = tf.expand_dims(delta_original, axis=ranks-2)\n",
        "        elif ranks >= 4:\n",
        "            delta = K.expand_dims(delta_original, axis=ranks-3)\n",
        "            # reshape to original input shape(if rank >= 4)\n",
        "            # rank = 4 : (batch, ndim, ch) -> (batch, height, width, ch)\n",
        "            # rank = 5 : (batch, D, ndim, ch) -> (batch, D, height, width, ch)\n",
        "            delta = tf.broadcast_to(delta, tf.shape(x))\n",
        "            delta = K.reshape(delta, [-1, *input_shape[1:]])\n",
        "\n",
        "        # delta scaling\n",
        "        delta = delta * self.scale\n",
        "\n",
        "        #print(\"scaling factor\", K.int_shape(scaling_factors))\n",
        "        #print(\"mean\", K.int_shape(mean))\n",
        "        #print(\"cov\", K.int_shape(cov))\n",
        "        #print(\"S\", K.int_shape(S))\n",
        "        #print(\"U\", K.int_shape(U))\n",
        "        #print(\"rand\", K.int_shape(rand))\n",
        "        #print(\"delta_original\", K.int_shape(delta_original))\n",
        "        #print(\"delta\", K.int_shape(delta))\n",
        "\n",
        "        # clipping (if clipping=True)\n",
        "        result = inputs + delta\n",
        "        if self.clipping:\n",
        "            result = tf.clip_by_value(result, 0.0, self.scale)\n",
        "\n",
        "        return result\n",
        "\n",
        "    def call(self, inputs):\n",
        "        return K.in_train_phase(self.augmentation(inputs), inputs)\n",
        "\n",
        "    def compute_output_shape(self, input_shape):\n",
        "        return input_shape"
      ],
      "metadata": {
        "id": "8A-RjcFaKpQ5"
      },
      "execution_count": null,
      "outputs": []
    },
    {
      "cell_type": "markdown",
      "source": [
        "## Resiudal Blocks"
      ],
      "metadata": {
        "id": "dk1iQ1ju5qZ1"
      }
    },
    {
      "cell_type": "markdown",
      "source": [
        "Code inspired by:\n",
        "https://github.com/AarohiSingla/ResNet50/blob/master/3-resnet50_rooms_dataset.ipynb\n"
      ],
      "metadata": {
        "id": "LnoIZlOfWn50"
      }
    },
    {
      "cell_type": "code",
      "source": [
        "def three_layer_identity_block(tensor, num_filters, stage):\n",
        "    \"\"\"\n",
        "    Creates a three-layer identity block for a ResNet model.\n",
        "    :param tensor: input tensor for the block\n",
        "    :param num_filters: Int. Number of filters for the convolutional layers\n",
        "    :param stage: Int. Counter for numbering the identity blocks\n",
        "    :return: output tensor\n",
        "    \"\"\"\n",
        "\n",
        "    # Saving the unaltered tensor to add to the convolutional output later\n",
        "    shortcut_tensor = tensor\n",
        "\n",
        "    # 1st convolutional block\n",
        "    tensor = Conv2D(filters=num_filters,\n",
        "                    kernel_size=(1, 1),\n",
        "                    strides=(1, 1),\n",
        "                    padding=\"valid\",\n",
        "                    kernel_initializer=\"HeNormal\",\n",
        "                    name=f\"Conv1_{stage}\")(tensor)\n",
        "\n",
        "    tensor = BatchNormalization(axis=3,\n",
        "                                name=f\"BatchNorm1_{stage}\")(tensor)\n",
        "\n",
        "    tensor = ReLU(name=f\"ReLU1_{stage}\")(tensor)\n",
        "\n",
        "    # 2nd convolutional block\n",
        "    tensor = Conv2D(filters=num_filters,\n",
        "                    kernel_size=(3, 3),\n",
        "                    strides=(1, 1),\n",
        "                    padding=\"same\",\n",
        "                    kernel_initializer=\"HeNormal\",\n",
        "                    name=f\"Conv2_{stage}\")(tensor)  # Padding to keep dimensions\n",
        "\n",
        "    tensor = BatchNormalization(axis=3,\n",
        "                                name=f\"BatchNorm2_{stage}\")(tensor)\n",
        "\n",
        "    tensor = ReLU(name=f\"ReLU2_{stage}\")(tensor)\n",
        "\n",
        "    # 3rd convolutional block\n",
        "    tensor = Conv2D(filters=num_filters * 4,\n",
        "                    kernel_size=(1, 1),\n",
        "                    strides=(1, 1),\n",
        "                    padding=\"valid\",\n",
        "                    kernel_initializer=\"HeNormal\",\n",
        "                    name=f\"Conv3_{stage}\")(tensor)\n",
        "\n",
        "    tensor = BatchNormalization(axis=3,\n",
        "                                name=f\"BatchNorm3_{stage}\")(tensor)\n",
        "\n",
        "    tensor = ReLU(name=f\"ReLU3_{stage}\")(tensor)\n",
        "\n",
        "    # Skip connection\n",
        "    tensor = Add(name=f\"SkipConnection_{stage}\")([tensor, shortcut_tensor])\n",
        "    tensor = ReLU(name=f\"ReLU4_{stage}\")(tensor)\n",
        "\n",
        "    return tensor\n",
        "\n",
        "\n",
        "\n",
        "def three_layer_projection_block(tensor, num_filters, stage, strides=(2, 2)):\n",
        "    \"\"\"\n",
        "    Creates a three-layer projection block for a ResNet model.\n",
        "    :param tensor: input tensor for the block\n",
        "    :param num_filters: Int. Number of filters for the convolutional layers\n",
        "    :param stage: Int. Counter for numbering the identity blocks\n",
        "    :param strides: Tuple of the strides\n",
        "    :return: output tensor\n",
        "    \"\"\"\n",
        "\n",
        "    # Saving the unaltered tensor to add to the convolutional output later\n",
        "    shortcut_tensor = tensor\n",
        "\n",
        "    # 1st convolutional block\n",
        "    tensor = Conv2D(filters=num_filters,\n",
        "                    kernel_size=(1, 1),\n",
        "                    strides=strides,  # Strides are (2, 2) to reduce the dimensions\n",
        "                    kernel_initializer=\"HeNormal\",\n",
        "                    padding=\"valid\",\n",
        "                    name=f\"Conv1_{stage}\")(tensor)\n",
        "\n",
        "    tensor = BatchNormalization(axis=3,\n",
        "                                name=f\"BatchNorm1_{stage}\")(tensor)\n",
        "\n",
        "    tensor = ReLU(name=f\"ReLU1_{stage}\")(tensor)\n",
        "\n",
        "    # 2nd convolutional block\n",
        "    tensor = Conv2D(filters=num_filters,\n",
        "                    kernel_size=(3, 3),\n",
        "                    strides=(1, 1),\n",
        "                    kernel_initializer=\"HeNormal\",\n",
        "                    padding=\"same\",  # Padding to keep dimensions\n",
        "                    name=f\"Conv2_{stage}\")(tensor)\n",
        "\n",
        "    tensor = BatchNormalization(axis=3,\n",
        "                                name=f\"BatchNorm2_{stage}\")(tensor)\n",
        "\n",
        "    tensor = ReLU(name=f\"ReLU2_{stage}\")(tensor)\n",
        "\n",
        "    # 3rd convolutional block\n",
        "    tensor = Conv2D(filters=num_filters * 4,\n",
        "                    kernel_size=(1, 1),\n",
        "                    strides=(1, 1),\n",
        "                    kernel_initializer=\"HeNormal\",\n",
        "                    padding=\"valid\",\n",
        "                    name=f\"Conv3_{stage}\")(tensor)\n",
        "\n",
        "    tensor = BatchNormalization(axis=3,\n",
        "                                name=f\"BatchNorm3_{stage}\")(tensor)\n",
        "\n",
        "    tensor = ReLU(name=f\"ReLU3_{stage}\")(tensor)\n",
        "\n",
        "    # 1x1 convolution for the shortcut tensor\n",
        "    shortcut_tensor = Conv2D(filters=num_filters * 4,\n",
        "                             kernel_size=(1, 1),\n",
        "                             strides=strides,  # Strides are (2, 2) to reduce the dimensions\n",
        "                             padding=\"valid\",\n",
        "                             kernel_initializer=\"HeNormal\",\n",
        "                             name=f\"Conv4_{stage}\")(shortcut_tensor)\n",
        "\n",
        "    shortcut_tensor = BatchNormalization(axis=3,\n",
        "                                         name=f\"BatchNorm4_{stage}\")(shortcut_tensor)\n",
        "\n",
        "    # Skip connection\n",
        "    tensor = Add(name=f\"SkipConnection_{stage}\")([tensor, shortcut_tensor])\n",
        "    tensor = ReLU(name=f\"ReLU4_{stage}\")(tensor)\n",
        "\n",
        "    return tensor"
      ],
      "metadata": {
        "id": "Zfh8G0625oun"
      },
      "execution_count": null,
      "outputs": []
    },
    {
      "cell_type": "markdown",
      "source": [
        "## Bottleneck Blocks"
      ],
      "metadata": {
        "id": "USqSZTakLzvu"
      }
    },
    {
      "cell_type": "code",
      "source": [
        "def bottleneck_block(tensor, num_filters, stage, expansion=6, strides=(1, 1)):\n",
        "    \"\"\"\n",
        "    Creates a three-layer linear bottleneck block for a MobileNet model.\n",
        "    :param tensor: input tensor for the block\n",
        "    :param num_filters: Int. Number of filters for the convolutional layers\n",
        "    :param stage: Int. Counter for numbering the identity blocks\n",
        "    :param expansion: Int. expansion factor for number of filters\n",
        "    :param strides: Tuple for the strides in the first layer of the block\n",
        "    :return: output tensor\n",
        "    \"\"\"\n",
        "\n",
        "    # Saving the unaltered tensor to add to the convolutional output later\n",
        "    shortcut_tensor = tensor\n",
        "\n",
        "    # 1st convolutional block\n",
        "    tensor = Conv2D(filters=num_filters*expansion,\n",
        "                    kernel_size=(1, 1),\n",
        "                    strides=strides,\n",
        "                    padding=\"valid\",\n",
        "                    kernel_initializer=\"HeNormal\",\n",
        "                    name=f\"Conv1_{stage}\")(tensor)\n",
        "\n",
        "    tensor = BatchNormalization(axis=3,\n",
        "                                name=f\"BatchNorm1_{stage}\")(tensor)\n",
        "\n",
        "    tensor = Activation(activation=\"relu6\",\n",
        "                        name=f\"ReLU1_{stage}\")(tensor)\n",
        "\n",
        "    # 2nd convolutional block\n",
        "    tensor = DepthwiseConv2D(\n",
        "                    kernel_size=(3, 3),\n",
        "                    strides=(1, 1),\n",
        "                    padding=\"same\",\n",
        "                    kernel_initializer=\"HeNormal\",\n",
        "                    name=f\"Conv2_{stage}\")(tensor)\n",
        "\n",
        "    tensor = BatchNormalization(axis=3,\n",
        "                                name=f\"BatchNorm2_{stage}\")(tensor)\n",
        "\n",
        "    tensor = Activation(activation=\"relu6\",\n",
        "                        name=f\"ReLU2_{stage}\")(tensor)\n",
        "\n",
        "    # 3rd convolutional block\n",
        "    tensor = Conv2D(filters=num_filters,\n",
        "                    kernel_size=(1, 1),\n",
        "                    strides=(1, 1),\n",
        "                    padding=\"valid\",\n",
        "                    kernel_initializer=\"HeNormal\",\n",
        "                    name=f\"Conv3_{stage}\")(tensor)\n",
        "\n",
        "    tensor = BatchNormalization(axis=3,\n",
        "                                name=f\"BatchNorm3_{stage}\")(tensor)\n",
        "\n",
        "\n",
        "    if strides == (1, 1):\n",
        "      # Skip connection\n",
        "\n",
        "      if shortcut_tensor.shape != tensor.shape:\n",
        "        shortcut_tensor = Conv2D(filters=num_filters,\n",
        "                      kernel_size=(1, 1),\n",
        "                      strides=strides,\n",
        "                      padding=\"valid\",\n",
        "                      kernel_initializer=\"HeNormal\",\n",
        "                      name=f\"Conv_Dim_{stage}\")(shortcut_tensor)\n",
        "\n",
        "\n",
        "      tensor = Add(name=f\"SkipConnection_{stage}\")([tensor, shortcut_tensor])\n",
        "\n",
        "    return tensor"
      ],
      "metadata": {
        "id": "8SrSCn6uLzv4"
      },
      "execution_count": null,
      "outputs": []
    },
    {
      "cell_type": "markdown",
      "source": [
        "## Learning Rate Scheduler"
      ],
      "metadata": {
        "id": "lN312MosK410"
      }
    },
    {
      "cell_type": "code",
      "source": [
        "def scheduler(epoch, lr):\n",
        "    \"\"\"\n",
        "    Creates schedule to obtain an exponential decay of the learning rate\n",
        "    :param epoch: Int. Epoch at which we start the decay of the learning rate\n",
        "    :param lr: Float Learning rate for the optimiser\n",
        "    :return: Learning rate for a given epoch\n",
        "    \"\"\"\n",
        "    if epoch < 10:\n",
        "        return lr\n",
        "    else:\n",
        "        return lr * tf.math.exp(-0.05)"
      ],
      "metadata": {
        "id": "sURUX1iOK42A"
      },
      "execution_count": null,
      "outputs": []
    },
    {
      "cell_type": "markdown",
      "source": [
        "## Class Weigths and Output Biases"
      ],
      "metadata": {
        "id": "qnLrJWsXKtdu"
      }
    },
    {
      "cell_type": "markdown",
      "source": [
        "Code obtained from:\n",
        "https://stackoverflow.com/questions/60307239/setting-bias-for-multiclass-classification-python-tensorflow-keras"
      ],
      "metadata": {
        "id": "xNBcCek3Ktd5"
      }
    },
    {
      "cell_type": "code",
      "source": [
        "class_obs = np.array([1080, 446, 326, 290, 222])\n",
        "class_frequencies = class_obs / sum(class_obs)\n",
        "\n",
        "class_weights = {}\n",
        "for cls, freq in enumerate(class_obs):\n",
        "  class_weights[cls] = (1 / class_obs[cls]) * sum(class_obs) / len(class_obs)\n",
        "\n",
        "\n",
        "def eqn(x, frequency=class_frequencies):\n",
        "      sum_exp = sum([exp(x_i) for x_i in x])\n",
        "      return [exp(x[i])/sum_exp - frequency[i] for i in range(len(frequency))]\n",
        "\n",
        "  # calculate init bias\n",
        "output_bias = fsolve(func=eqn,\n",
        "                      x0=[0]*len(class_frequencies),).tolist()\n",
        "\n",
        "output_bias = tf.keras.initializers.Constant(output_bias)"
      ],
      "metadata": {
        "id": "8Yo-UnawKtd6"
      },
      "execution_count": null,
      "outputs": []
    },
    {
      "cell_type": "markdown",
      "source": [
        "## Directory for logs"
      ],
      "metadata": {
        "id": "rbzviGXtIVX9"
      }
    },
    {
      "cell_type": "code",
      "source": [
        "!mkdir model_results\n",
        "!mkdir transfer"
      ],
      "metadata": {
        "id": "otosDc0gIqB6"
      },
      "execution_count": null,
      "outputs": []
    },
    {
      "cell_type": "markdown",
      "source": [
        "## Setting Input Shape"
      ],
      "metadata": {
        "id": "8q3n3ECBIaTv"
      }
    },
    {
      "cell_type": "code",
      "source": [
        "INPUT_SHAPE = (224, 224, 3)"
      ],
      "metadata": {
        "id": "ttHnva_RIdKO"
      },
      "execution_count": null,
      "outputs": []
    },
    {
      "cell_type": "markdown",
      "source": [
        "## Plotting functions"
      ],
      "metadata": {
        "id": "uO9GZlvKIvjy"
      }
    },
    {
      "cell_type": "markdown",
      "source": [
        "### Visualisation settings"
      ],
      "metadata": {
        "id": "9rjvSMbgI0pL"
      }
    },
    {
      "cell_type": "code",
      "source": [
        "custom_params = {\"axes.spines.right\": False, \"axes.spines.top\": False}\n",
        "sns.set_theme(style=\"whitegrid\", rc=custom_params)"
      ],
      "metadata": {
        "id": "6LDdtjzLI3YT"
      },
      "execution_count": null,
      "outputs": []
    },
    {
      "cell_type": "markdown",
      "source": [
        "### Plotting function"
      ],
      "metadata": {
        "id": "aQZOKdoYI4Da"
      }
    },
    {
      "cell_type": "code",
      "source": [
        "def plot_history(history, figsize=(12,6), y_lim_left=(0,1), y_lim_right=(0,1.02)):\n",
        "    \"\"\"\n",
        "    Plots the loss and accuracy curves.\n",
        "    :param df: the data frame containing the histories we want to plot\n",
        "    :param y_lim: Tuple. If not differently specified, it's (0,1). Only applies to the accuracy plot.\n",
        "    :return: None\n",
        "    \"\"\"\n",
        "    fig, ax = plt.subplots(figsize=figsize, nrows=1, ncols=2)\n",
        "\n",
        "\n",
        "    # Plot Loss\n",
        "    sns.lineplot(data=history,\n",
        "                 x=\"epoch\",\n",
        "                 y=\"val_loss\",\n",
        "                 ax=ax[0],\n",
        "                 label=\"Validation Loss\",\n",
        "                 linewidth=2,\n",
        "                 color=\"#25bdf0\")\n",
        "\n",
        "    sns.lineplot(data=history,\n",
        "                 x=\"epoch\",\n",
        "                 y=\"loss\",\n",
        "                 ax=ax[0],\n",
        "                 label=\"Training Loss\",\n",
        "                 linewidth=2,\n",
        "                 color=\"#78ba41\")\n",
        "\n",
        "    # Plot Accuracy\n",
        "    sns.lineplot(data=history,\n",
        "                 x=\"epoch\",\n",
        "                 y=\"val_accuracy\",\n",
        "                 ax=ax[1],\n",
        "                 label=\"Validation Accuracy\",\n",
        "                 linewidth=2,\n",
        "                 color=\"#25bdf0\")\n",
        "\n",
        "    sns.lineplot(data=history,\n",
        "                 x=\"epoch\",\n",
        "                 y=\"accuracy\",\n",
        "                 ax=ax[1],\n",
        "                 label=\"Training Accuracy\",\n",
        "                 linewidth=2,\n",
        "                 color=\"#78ba41\")\n",
        "\n",
        "    ax[0].set_xlabel(\"Epochs\")\n",
        "    ax[0].set_ylabel(\"Categorical Crossentropy\")\n",
        "    ax[0].set_title(\"Training Loss vs Validation Loss\")\n",
        "    ax[0].set_ylim(y_lim_left)\n",
        "    ax[0].legend()\n",
        "\n",
        "    ax[1].set_xlabel(\"Epochs\")\n",
        "    ax[1].set_ylabel(\"Accuracy (%)\")\n",
        "    ax[1].set_title(\"Training Accuracy vs Validation Accuracy\")\n",
        "    ax[1].set_ylim(y_lim_right)\n",
        "    ax[1].legend(loc=\"lower right\")\n",
        "\n",
        "    plt.show()"
      ],
      "metadata": {
        "id": "MnWn38ZRI9ME"
      },
      "execution_count": null,
      "outputs": []
    },
    {
      "cell_type": "markdown",
      "source": [
        "# Loading the Data"
      ],
      "metadata": {
        "id": "-YyHWqjtF6Eb"
      }
    },
    {
      "cell_type": "markdown",
      "source": [
        "## Loading prado.csv using the Kaggle API"
      ],
      "metadata": {
        "id": "pJlY_LYwGYkz"
      }
    },
    {
      "cell_type": "code",
      "source": [
        "os.environ[\"KAGGLE_USERNAME\"] = \"xxxxxx\"\n",
        "os.environ[\"KAGGLE_KEY\"] = \"xxxxxx\"\n",
        "!kaggle datasets download maparla/prado-museum-pictures -f prado.csv\n",
        "!unzip prado.csv.zip"
      ],
      "metadata": {
        "colab": {
          "base_uri": "https://localhost:8080/"
        },
        "id": "9PVgGT_IF86s",
        "outputId": "b208e5f1-156d-4c87-84d5-c7c306eadd72"
      },
      "execution_count": null,
      "outputs": [
        {
          "output_type": "stream",
          "name": "stdout",
          "text": [
            "Downloading prado.csv.zip to /content\n",
            " 87% 16.0M/18.3M [00:00<00:00, 26.8MB/s]\n",
            "100% 18.3M/18.3M [00:01<00:00, 18.2MB/s]\n",
            "Archive:  prado.csv.zip\n",
            "  inflating: prado.csv               \n"
          ]
        }
      ]
    },
    {
      "cell_type": "markdown",
      "source": [
        "## Creating list with URLs to load"
      ],
      "metadata": {
        "id": "-S9vrYzvGZoz"
      }
    },
    {
      "cell_type": "markdown",
      "source": [
        "Creating the data frame containing the URLs"
      ],
      "metadata": {
        "id": "fHXq204MPMdf"
      }
    },
    {
      "cell_type": "code",
      "source": [
        "df = pd.read_csv(os.path.join(\"prado.csv\"))\n",
        "df[\"work_id\"] = df[\"work_image_url\"].apply(lambda x: x.split(\"/\")[-1])"
      ],
      "metadata": {
        "id": "fPwZOzXgPF9h"
      },
      "execution_count": null,
      "outputs": []
    },
    {
      "cell_type": "markdown",
      "source": [
        "5 painters considered for the analysis"
      ],
      "metadata": {
        "id": "ia3zXsKrGjcw"
      }
    },
    {
      "cell_type": "code",
      "source": [
        "painters = [\"Goya y Lucientes, Francisco de\",\n",
        "            \"Bayeu y Subías, Francisco\",\n",
        "            \"Haes, Carlos de\",\n",
        "            \"Pizarro y Librado, Cecilio\",\n",
        "            \"Ribera y Fieve, Carlos Luis de\"]\n",
        "\n",
        "painter_dirs = [\"goya\", \"bayeu\", \"haes\", \"pizzaro\", \"ribera\"]"
      ],
      "metadata": {
        "id": "HK7bbEdzGnGG"
      },
      "execution_count": null,
      "outputs": []
    },
    {
      "cell_type": "markdown",
      "source": [
        "Creating directories to store the data"
      ],
      "metadata": {
        "id": "Pg7Ah94rGpQM"
      }
    },
    {
      "cell_type": "code",
      "source": [
        "!mkdir data\n",
        "\n",
        "for dir in painter_dirs:\n",
        "  !mkdir -p data/$dir"
      ],
      "metadata": {
        "id": "MY3IcYKQGru8"
      },
      "execution_count": null,
      "outputs": []
    },
    {
      "cell_type": "markdown",
      "source": [
        "List of URLs"
      ],
      "metadata": {
        "id": "MWgJytHfGuff"
      }
    },
    {
      "cell_type": "code",
      "source": [
        "download_list = list()\n",
        "\n",
        "for painter, dir in zip(painters, painter_dirs):\n",
        "\n",
        "  painter_urls = list(df[\"work_image_url\"].loc[df[\"author\"] == painter])\n",
        "  painter_fns = list(df[\"work_id\"].loc[df[\"author\"] == painter])\n",
        "  painter_fns = [f\"data/{dir}/\" + fn for fn in painter_fns]\n",
        "\n",
        "  for url, fn in zip(painter_urls, painter_fns):\n",
        "    download_list.append((url, fn))"
      ],
      "metadata": {
        "id": "y_iGam11Gxoy"
      },
      "execution_count": null,
      "outputs": []
    },
    {
      "cell_type": "markdown",
      "source": [
        "Parallel downloading"
      ],
      "metadata": {
        "id": "8KJaLQviGzu-"
      }
    },
    {
      "cell_type": "code",
      "source": [
        "download_parallel(download_list)"
      ],
      "metadata": {
        "id": "bu1HW2mRG1G5"
      },
      "execution_count": null,
      "outputs": []
    },
    {
      "cell_type": "markdown",
      "source": [
        "Training and testing data"
      ],
      "metadata": {
        "id": "KWOr1nomG2kY"
      }
    },
    {
      "cell_type": "code",
      "source": [
        "train_ds, val_ds = tf.keras.utils.image_dataset_from_directory(\"/content/data\",\n",
        "                                                               label_mode=\"int\",\n",
        "                                                               color_mode=\"rgb\",\n",
        "                                                               batch_size=32,\n",
        "                                                               image_size=(224, 224),\n",
        "                                                               shuffle=True,\n",
        "                                                               seed=42,\n",
        "                                                               validation_split=0.2,\n",
        "                                                               subset=\"both\",\n",
        "                                                               labels=\"inferred\",\n",
        "                                                               class_names=[\"goya\", \"bayeu\", \"haes\", \"pizzaro\", \"ribera\"])"
      ],
      "metadata": {
        "colab": {
          "base_uri": "https://localhost:8080/"
        },
        "id": "_saW7ulyG4Rr",
        "outputId": "621a077b-3b1f-4cf8-ca92-38553e283e54"
      },
      "execution_count": null,
      "outputs": [
        {
          "output_type": "stream",
          "name": "stdout",
          "text": [
            "Found 2360 files belonging to 5 classes.\n",
            "Using 1888 files for training.\n",
            "Using 472 files for validation.\n"
          ]
        }
      ]
    },
    {
      "cell_type": "markdown",
      "source": [
        "# Models"
      ],
      "metadata": {
        "id": "t1E8HujJG9Lw"
      }
    },
    {
      "cell_type": "markdown",
      "source": [
        "## VGG"
      ],
      "metadata": {
        "id": "NPuFImABG-bG"
      }
    },
    {
      "cell_type": "markdown",
      "source": [
        "### Model Creation"
      ],
      "metadata": {
        "id": "ufYsPtBWZdAD"
      }
    },
    {
      "cell_type": "code",
      "source": [
        "vgg = Sequential([\n",
        "    # Preprocessing layers\n",
        "    tf.keras.layers.RandomFlip(mode=\"horizontal\",\n",
        "                               input_shape=INPUT_SHAPE,\n",
        "                               name=\"Random_horizontal_flip\"),\n",
        "    tf.keras.layers.Lambda(function=tf.image.per_image_standardization,\n",
        "                           name=\"Per_image_standardisation\"),\n",
        "    PCAColorAugmentationGPU(name=\"PCA_Colour_Augmentation\"),\n",
        "\n",
        "\n",
        "    # 1st convolutional block\n",
        "    Conv2D(filters=64,\n",
        "           kernel_size=(3, 3),\n",
        "           strides=(1, 1),\n",
        "           padding=\"same\",\n",
        "           activation=None,\n",
        "           kernel_initializer=\"HeNormal\",\n",
        "           name=\"Conv_1_1\"),\n",
        "    BatchNormalization(name=\"BatchNorm_1_1\"),\n",
        "    ReLU(name=\"ReLU_1_1\"),\n",
        "\n",
        "    Conv2D(filters=64,\n",
        "           kernel_size=(3, 3),\n",
        "           strides=(1, 1),\n",
        "           padding=\"same\",\n",
        "           activation=None,\n",
        "           kernel_initializer=\"HeNormal\",\n",
        "           name=\"Conv_1_2\"),\n",
        "    BatchNormalization(name=\"BatchNorm_1_2\"),\n",
        "    ReLU(name=\"ReLU_1_2\"),\n",
        "\n",
        "\n",
        "    AveragePooling2D(pool_size=(2, 2),\n",
        "                     strides=None,\n",
        "                     padding=\"valid\",\n",
        "                     name=\"AvgPool_1\"),\n",
        "\n",
        "\n",
        "    # 2nd convolutional block\n",
        "    Conv2D(filters=128,\n",
        "           kernel_size=(3, 3),\n",
        "           strides=(1, 1),\n",
        "           padding=\"same\",\n",
        "           activation=None,\n",
        "           kernel_initializer=\"HeNormal\",\n",
        "           name=\"Conv_2_1\"),\n",
        "    BatchNormalization(name=\"BatchNorm_2_1\"),\n",
        "    ReLU(name=\"ReLU_2_1\"),\n",
        "\n",
        "    Conv2D(filters=128,\n",
        "           kernel_size=(3, 3),\n",
        "           strides=(1, 1),\n",
        "           padding=\"same\",\n",
        "           activation=None,\n",
        "           kernel_initializer=\"HeNormal\",\n",
        "           name=\"Conv_2_2\"),\n",
        "    BatchNormalization(name=\"BatchNorm_2_2\"),\n",
        "    ReLU(name=\"ReLU_2_2\"),\n",
        "\n",
        "    AveragePooling2D(pool_size=(2, 2),\n",
        "                     strides=None,\n",
        "                     padding=\"valid\",\n",
        "                     name=\"AvgPool_2\"),\n",
        "\n",
        "\n",
        "    # 3rd convolutional block\n",
        "    Conv2D(filters=256,\n",
        "           kernel_size=(3, 3),\n",
        "           strides=(1, 1),\n",
        "           padding=\"same\",\n",
        "           activation=None,\n",
        "           kernel_initializer=\"HeNormal\",\n",
        "           name=\"Conv_3_1\"),\n",
        "    BatchNormalization(name=\"BatchNorm_3_1\"),\n",
        "    ReLU(name=\"ReLU_3_1\"),\n",
        "\n",
        "    Conv2D(filters=256,\n",
        "           kernel_size=(3, 3),\n",
        "           strides=(1, 1),\n",
        "           padding=\"same\",\n",
        "           activation=None,\n",
        "           kernel_initializer=\"HeNormal\",\n",
        "           name=\"Conv_3_2\"),\n",
        "    BatchNormalization(name=\"BatchNorm_3_2\"),\n",
        "    ReLU(name=\"ReLU_3_2\"),\n",
        "\n",
        "\n",
        "    Conv2D(filters=256,\n",
        "           kernel_size=(1, 1),\n",
        "           strides=(1, 1),\n",
        "           padding=\"valid\",\n",
        "           activation=None,\n",
        "           kernel_initializer=\"HeNormal\",\n",
        "           name=\"Conv_3_3\"),\n",
        "    BatchNormalization(name=\"BatchNorm_3_3\"),\n",
        "    ReLU(name=\"ReLU_3_3\"),\n",
        "\n",
        "\n",
        "\n",
        "    AveragePooling2D(pool_size=(2, 2),\n",
        "                     strides=None,\n",
        "                     padding=\"valid\",\n",
        "                     name=\"AvgPool_3\"),\n",
        "\n",
        "\n",
        "    # 4th convolutional block\n",
        "    Conv2D(filters=512,\n",
        "           kernel_size=(3, 3),\n",
        "           strides=(1, 1),\n",
        "           padding=\"same\",\n",
        "           activation=None,\n",
        "           kernel_initializer=\"HeNormal\",\n",
        "           name=\"Conv_4_1\"),\n",
        "    BatchNormalization(name=\"BatchNorm_4_1\"),\n",
        "    ReLU(name=\"ReLU_4_1\"),\n",
        "\n",
        "    Conv2D(filters=512,\n",
        "           kernel_size=(3, 3),\n",
        "           strides=(1, 1),\n",
        "           padding=\"same\",\n",
        "           activation=None,\n",
        "           kernel_initializer=\"HeNormal\",\n",
        "           name=\"Conv_4_2\"),\n",
        "    BatchNormalization(name=\"BatchNorm_4_2\"),\n",
        "    ReLU(name=\"ReLU_4_2\"),\n",
        "\n",
        "\n",
        "    Conv2D(filters=512,\n",
        "           kernel_size=(1, 1),\n",
        "           strides=(1, 1),\n",
        "           padding=\"valid\",\n",
        "           activation=None,\n",
        "           kernel_initializer=\"HeNormal\",\n",
        "           name=\"Conv_4_3\"),\n",
        "    BatchNormalization(name=\"BatchNorm_4_3\"),\n",
        "    ReLU(name=\"ReLU_4_3\"),\n",
        "\n",
        "\n",
        "    AveragePooling2D(pool_size=(2, 2),\n",
        "                     strides=None,\n",
        "                     padding=\"valid\",\n",
        "                     name=\"AvgPool_4\"),\n",
        "\n",
        "\n",
        "    Flatten(name=\"Flatten\"),\n",
        "\n",
        "    Dense(units=16,\n",
        "          activation=None,\n",
        "          kernel_initializer=\"HeNormal\",\n",
        "          bias_initializer=\"zeros\",\n",
        "          name=\"Dense_1\"),\n",
        "    BatchNormalization(name=\"BatchNorm_1\"),\n",
        "    PReLU(name=\"PReLU_1\"),\n",
        "\n",
        "    Dense(units=8,\n",
        "          activation=None,\n",
        "          kernel_initializer=\"HeNormal\",\n",
        "          bias_initializer=\"zeros\",\n",
        "          name=\"Dense_2\"),\n",
        "    BatchNormalization(name=\"BatchNorm_2\"),\n",
        "    PReLU(name=\"PReLU_2\"),\n",
        "\n",
        "\n",
        "    Dense(units=5,\n",
        "          activation=\"softmax\",\n",
        "          kernel_initializer=\"HeNormal\",\n",
        "          bias_initializer=output_bias,\n",
        "          name=\"Output\")\n",
        "],\n",
        "    name=\"VGG\")"
      ],
      "metadata": {
        "id": "4gaZ9wUhq499"
      },
      "execution_count": null,
      "outputs": []
    },
    {
      "cell_type": "code",
      "source": [
        "vgg.summary()"
      ],
      "metadata": {
        "colab": {
          "base_uri": "https://localhost:8080/"
        },
        "id": "_uTsGDR7uw8f",
        "outputId": "15e69353-017b-4f86-8bc6-ec325e0a47dc"
      },
      "execution_count": null,
      "outputs": [
        {
          "output_type": "stream",
          "name": "stdout",
          "text": [
            "Model: \"VGG\"\n",
            "_________________________________________________________________\n",
            " Layer (type)                Output Shape              Param #   \n",
            "=================================================================\n",
            " Random_horizontal_flip (Ra  (None, 224, 224, 3)       0         \n",
            " ndomFlip)                                                       \n",
            "                                                                 \n",
            " Per_image_standardisation   (None, 224, 224, 3)       0         \n",
            " (Lambda)                                                        \n",
            "                                                                 \n",
            " PCA_Colour_Augmentation (P  (None, 224, 224, 3)       0         \n",
            " CAColorAugmentationGPU)                                         \n",
            "                                                                 \n",
            " Conv_1_1 (Conv2D)           (None, 224, 224, 64)      1792      \n",
            "                                                                 \n",
            " BatchNorm_1_1 (BatchNormal  (None, 224, 224, 64)      256       \n",
            " ization)                                                        \n",
            "                                                                 \n",
            " ReLU_1_1 (ReLU)             (None, 224, 224, 64)      0         \n",
            "                                                                 \n",
            " Conv_1_2 (Conv2D)           (None, 224, 224, 64)      36928     \n",
            "                                                                 \n",
            " BatchNorm_1_2 (BatchNormal  (None, 224, 224, 64)      256       \n",
            " ization)                                                        \n",
            "                                                                 \n",
            " ReLU_1_2 (ReLU)             (None, 224, 224, 64)      0         \n",
            "                                                                 \n",
            " AvgPool_1 (AveragePooling2  (None, 112, 112, 64)      0         \n",
            " D)                                                              \n",
            "                                                                 \n",
            " Conv_2_1 (Conv2D)           (None, 112, 112, 128)     73856     \n",
            "                                                                 \n",
            " BatchNorm_2_1 (BatchNormal  (None, 112, 112, 128)     512       \n",
            " ization)                                                        \n",
            "                                                                 \n",
            " ReLU_2_1 (ReLU)             (None, 112, 112, 128)     0         \n",
            "                                                                 \n",
            " Conv_2_2 (Conv2D)           (None, 112, 112, 128)     147584    \n",
            "                                                                 \n",
            " BatchNorm_2_2 (BatchNormal  (None, 112, 112, 128)     512       \n",
            " ization)                                                        \n",
            "                                                                 \n",
            " ReLU_2_2 (ReLU)             (None, 112, 112, 128)     0         \n",
            "                                                                 \n",
            " AvgPool_2 (AveragePooling2  (None, 56, 56, 128)       0         \n",
            " D)                                                              \n",
            "                                                                 \n",
            " Conv_3_1 (Conv2D)           (None, 56, 56, 256)       295168    \n",
            "                                                                 \n",
            " BatchNorm_3_1 (BatchNormal  (None, 56, 56, 256)       1024      \n",
            " ization)                                                        \n",
            "                                                                 \n",
            " ReLU_3_1 (ReLU)             (None, 56, 56, 256)       0         \n",
            "                                                                 \n",
            " Conv_3_2 (Conv2D)           (None, 56, 56, 256)       590080    \n",
            "                                                                 \n",
            " BatchNorm_3_2 (BatchNormal  (None, 56, 56, 256)       1024      \n",
            " ization)                                                        \n",
            "                                                                 \n",
            " ReLU_3_2 (ReLU)             (None, 56, 56, 256)       0         \n",
            "                                                                 \n",
            " Conv_3_3 (Conv2D)           (None, 56, 56, 256)       65792     \n",
            "                                                                 \n",
            " BatchNorm_3_3 (BatchNormal  (None, 56, 56, 256)       1024      \n",
            " ization)                                                        \n",
            "                                                                 \n",
            " ReLU_3_3 (ReLU)             (None, 56, 56, 256)       0         \n",
            "                                                                 \n",
            " AvgPool_3 (AveragePooling2  (None, 28, 28, 256)       0         \n",
            " D)                                                              \n",
            "                                                                 \n",
            " Conv_4_1 (Conv2D)           (None, 28, 28, 512)       1180160   \n",
            "                                                                 \n",
            " BatchNorm_4_1 (BatchNormal  (None, 28, 28, 512)       2048      \n",
            " ization)                                                        \n",
            "                                                                 \n",
            " ReLU_4_1 (ReLU)             (None, 28, 28, 512)       0         \n",
            "                                                                 \n",
            " Conv_4_2 (Conv2D)           (None, 28, 28, 512)       2359808   \n",
            "                                                                 \n",
            " BatchNorm_4_2 (BatchNormal  (None, 28, 28, 512)       2048      \n",
            " ization)                                                        \n",
            "                                                                 \n",
            " ReLU_4_2 (ReLU)             (None, 28, 28, 512)       0         \n",
            "                                                                 \n",
            " Conv_4_3 (Conv2D)           (None, 28, 28, 512)       262656    \n",
            "                                                                 \n",
            " BatchNorm_4_3 (BatchNormal  (None, 28, 28, 512)       2048      \n",
            " ization)                                                        \n",
            "                                                                 \n",
            " ReLU_4_3 (ReLU)             (None, 28, 28, 512)       0         \n",
            "                                                                 \n",
            " AvgPool_4 (AveragePooling2  (None, 14, 14, 512)       0         \n",
            " D)                                                              \n",
            "                                                                 \n",
            " Flatten (Flatten)           (None, 100352)            0         \n",
            "                                                                 \n",
            " Dense_1 (Dense)             (None, 16)                1605648   \n",
            "                                                                 \n",
            " BatchNorm_1 (BatchNormaliz  (None, 16)                64        \n",
            " ation)                                                          \n",
            "                                                                 \n",
            " PReLU_1 (PReLU)             (None, 16)                16        \n",
            "                                                                 \n",
            " Dense_2 (Dense)             (None, 8)                 136       \n",
            "                                                                 \n",
            " BatchNorm_2 (BatchNormaliz  (None, 8)                 32        \n",
            " ation)                                                          \n",
            "                                                                 \n",
            " PReLU_2 (PReLU)             (None, 8)                 8         \n",
            "                                                                 \n",
            " Output (Dense)              (None, 5)                 45        \n",
            "                                                                 \n",
            "=================================================================\n",
            "Total params: 6630525 (25.29 MB)\n",
            "Trainable params: 6625101 (25.27 MB)\n",
            "Non-trainable params: 5424 (21.19 KB)\n",
            "_________________________________________________________________\n"
          ]
        }
      ]
    },
    {
      "cell_type": "markdown",
      "source": [
        "### Model Compiling"
      ],
      "metadata": {
        "id": "fL8xEZa6ZiRH"
      }
    },
    {
      "cell_type": "code",
      "source": [
        "vgg.compile(loss=SparseCategoricalCrossentropy(),\n",
        "            optimizer=Adam(),\n",
        "            metrics=[\"accuracy\"])"
      ],
      "metadata": {
        "id": "wVOVQopKu52h"
      },
      "execution_count": null,
      "outputs": []
    },
    {
      "cell_type": "markdown",
      "source": [
        "### Model Training\n"
      ],
      "metadata": {
        "id": "oYJz2HTLFOuK"
      }
    },
    {
      "cell_type": "markdown",
      "source": [
        "#### Callbacks"
      ],
      "metadata": {
        "id": "QFZ-PYoWZ1mP"
      }
    },
    {
      "cell_type": "code",
      "source": [
        "lr_scheduler = tf.keras.callbacks.LearningRateScheduler(scheduler)\n",
        "vgg_csv_logger = CSVLogger(\"/content/model_results/vgg.log\")"
      ],
      "metadata": {
        "id": "H_Tv9DopKg5a"
      },
      "execution_count": null,
      "outputs": []
    },
    {
      "cell_type": "markdown",
      "source": [
        "#### Training"
      ],
      "metadata": {
        "id": "ibVODvWiaY40"
      }
    },
    {
      "cell_type": "code",
      "source": [
        "vgg_history = vgg.fit(train_ds,\n",
        "                      epochs=50,\n",
        "                      steps_per_epoch=len(train_ds),\n",
        "                      validation_data=val_ds,\n",
        "                      validation_steps=len(val_ds),\n",
        "                      class_weight=class_weights,\n",
        "                      callbacks=[lr_scheduler, vgg_csv_logger])"
      ],
      "metadata": {
        "colab": {
          "base_uri": "https://localhost:8080/"
        },
        "id": "zZesSL-Zu8jN",
        "outputId": "a57eaf41-7df2-4e79-a2d8-a62828b2f415"
      },
      "execution_count": null,
      "outputs": [
        {
          "output_type": "stream",
          "name": "stdout",
          "text": [
            "Epoch 1/50\n",
            "59/59 [==============================] - 36s 260ms/step - loss: 1.3643 - accuracy: 0.6229 - val_loss: 15.8550 - val_accuracy: 0.1801 - lr: 0.0010\n",
            "Epoch 2/50\n",
            "59/59 [==============================] - 17s 250ms/step - loss: 0.9240 - accuracy: 0.7722 - val_loss: 1.3074 - val_accuracy: 0.5381 - lr: 0.0010\n",
            "Epoch 3/50\n",
            "59/59 [==============================] - 16s 247ms/step - loss: 0.7903 - accuracy: 0.7940 - val_loss: 1.0098 - val_accuracy: 0.6377 - lr: 0.0010\n",
            "Epoch 4/50\n",
            "59/59 [==============================] - 16s 252ms/step - loss: 0.6257 - accuracy: 0.8353 - val_loss: 0.7939 - val_accuracy: 0.7225 - lr: 0.0010\n",
            "Epoch 5/50\n",
            "59/59 [==============================] - 16s 249ms/step - loss: 0.5015 - accuracy: 0.8528 - val_loss: 0.8233 - val_accuracy: 0.6547 - lr: 0.0010\n",
            "Epoch 6/50\n",
            "59/59 [==============================] - 17s 253ms/step - loss: 0.4273 - accuracy: 0.8745 - val_loss: 0.6988 - val_accuracy: 0.8030 - lr: 0.0010\n",
            "Epoch 7/50\n",
            "59/59 [==============================] - 16s 245ms/step - loss: 0.4045 - accuracy: 0.8708 - val_loss: 0.4938 - val_accuracy: 0.8347 - lr: 0.0010\n",
            "Epoch 8/50\n",
            "59/59 [==============================] - 16s 248ms/step - loss: 0.3348 - accuracy: 0.8946 - val_loss: 0.7866 - val_accuracy: 0.7373 - lr: 0.0010\n",
            "Epoch 9/50\n",
            "59/59 [==============================] - 16s 250ms/step - loss: 0.3028 - accuracy: 0.8930 - val_loss: 0.4133 - val_accuracy: 0.8686 - lr: 0.0010\n",
            "Epoch 10/50\n",
            "59/59 [==============================] - 17s 252ms/step - loss: 0.2388 - accuracy: 0.9232 - val_loss: 0.4728 - val_accuracy: 0.8538 - lr: 0.0010\n",
            "Epoch 11/50\n",
            "59/59 [==============================] - 16s 246ms/step - loss: 0.2367 - accuracy: 0.9237 - val_loss: 0.3495 - val_accuracy: 0.8983 - lr: 9.5123e-04\n",
            "Epoch 12/50\n",
            "59/59 [==============================] - 16s 250ms/step - loss: 0.1978 - accuracy: 0.9264 - val_loss: 0.5302 - val_accuracy: 0.8157 - lr: 9.0484e-04\n",
            "Epoch 13/50\n",
            "59/59 [==============================] - 16s 250ms/step - loss: 0.1680 - accuracy: 0.9481 - val_loss: 0.2873 - val_accuracy: 0.9174 - lr: 8.6071e-04\n",
            "Epoch 14/50\n",
            "59/59 [==============================] - 17s 250ms/step - loss: 0.1502 - accuracy: 0.9481 - val_loss: 0.3578 - val_accuracy: 0.8708 - lr: 8.1873e-04\n",
            "Epoch 15/50\n",
            "59/59 [==============================] - 16s 246ms/step - loss: 0.1684 - accuracy: 0.9428 - val_loss: 0.5657 - val_accuracy: 0.8157 - lr: 7.7880e-04\n",
            "Epoch 16/50\n",
            "59/59 [==============================] - 16s 246ms/step - loss: 0.1280 - accuracy: 0.9635 - val_loss: 0.2121 - val_accuracy: 0.9280 - lr: 7.4082e-04\n",
            "Epoch 17/50\n",
            "59/59 [==============================] - 16s 247ms/step - loss: 0.1193 - accuracy: 0.9619 - val_loss: 0.2289 - val_accuracy: 0.9343 - lr: 7.0469e-04\n",
            "Epoch 18/50\n",
            "59/59 [==============================] - 17s 251ms/step - loss: 0.1160 - accuracy: 0.9629 - val_loss: 0.2760 - val_accuracy: 0.9258 - lr: 6.7032e-04\n",
            "Epoch 19/50\n",
            "59/59 [==============================] - 16s 247ms/step - loss: 0.0814 - accuracy: 0.9746 - val_loss: 0.3172 - val_accuracy: 0.9047 - lr: 6.3763e-04\n",
            "Epoch 20/50\n",
            "59/59 [==============================] - 16s 249ms/step - loss: 0.0715 - accuracy: 0.9767 - val_loss: 0.2147 - val_accuracy: 0.9428 - lr: 6.0653e-04\n",
            "Epoch 21/50\n",
            "59/59 [==============================] - 16s 249ms/step - loss: 0.0648 - accuracy: 0.9846 - val_loss: 0.1931 - val_accuracy: 0.9492 - lr: 5.7695e-04\n",
            "Epoch 22/50\n",
            "59/59 [==============================] - 16s 248ms/step - loss: 0.0527 - accuracy: 0.9873 - val_loss: 0.1808 - val_accuracy: 0.9428 - lr: 5.4881e-04\n",
            "Epoch 23/50\n",
            "59/59 [==============================] - 16s 243ms/step - loss: 0.0639 - accuracy: 0.9809 - val_loss: 0.1724 - val_accuracy: 0.9492 - lr: 5.2205e-04\n",
            "Epoch 24/50\n",
            "59/59 [==============================] - 16s 246ms/step - loss: 0.0565 - accuracy: 0.9836 - val_loss: 0.1843 - val_accuracy: 0.9449 - lr: 4.9659e-04\n",
            "Epoch 25/50\n",
            "59/59 [==============================] - 16s 246ms/step - loss: 0.0438 - accuracy: 0.9878 - val_loss: 0.1668 - val_accuracy: 0.9555 - lr: 4.7237e-04\n",
            "Epoch 26/50\n",
            "59/59 [==============================] - 16s 248ms/step - loss: 0.0364 - accuracy: 0.9899 - val_loss: 0.1765 - val_accuracy: 0.9470 - lr: 4.4933e-04\n",
            "Epoch 27/50\n",
            "59/59 [==============================] - 16s 245ms/step - loss: 0.0330 - accuracy: 0.9931 - val_loss: 0.1558 - val_accuracy: 0.9555 - lr: 4.2742e-04\n",
            "Epoch 28/50\n",
            "59/59 [==============================] - 16s 248ms/step - loss: 0.0275 - accuracy: 0.9942 - val_loss: 0.1561 - val_accuracy: 0.9576 - lr: 4.0657e-04\n",
            "Epoch 29/50\n",
            "59/59 [==============================] - 16s 247ms/step - loss: 0.0291 - accuracy: 0.9947 - val_loss: 0.2153 - val_accuracy: 0.9407 - lr: 3.8674e-04\n",
            "Epoch 30/50\n",
            "59/59 [==============================] - 16s 246ms/step - loss: 0.0274 - accuracy: 0.9958 - val_loss: 0.1755 - val_accuracy: 0.9513 - lr: 3.6788e-04\n",
            "Epoch 31/50\n",
            "59/59 [==============================] - 16s 245ms/step - loss: 0.0244 - accuracy: 0.9958 - val_loss: 0.2340 - val_accuracy: 0.9237 - lr: 3.4994e-04\n",
            "Epoch 32/50\n",
            "59/59 [==============================] - 16s 246ms/step - loss: 0.0194 - accuracy: 0.9979 - val_loss: 0.2386 - val_accuracy: 0.9258 - lr: 3.3287e-04\n",
            "Epoch 33/50\n",
            "59/59 [==============================] - 16s 251ms/step - loss: 0.0243 - accuracy: 0.9958 - val_loss: 0.1967 - val_accuracy: 0.9428 - lr: 3.1664e-04\n",
            "Epoch 34/50\n",
            "59/59 [==============================] - 16s 246ms/step - loss: 0.0254 - accuracy: 0.9942 - val_loss: 0.1990 - val_accuracy: 0.9534 - lr: 3.0119e-04\n",
            "Epoch 35/50\n",
            "59/59 [==============================] - 16s 248ms/step - loss: 0.0295 - accuracy: 0.9926 - val_loss: 0.1780 - val_accuracy: 0.9449 - lr: 2.8651e-04\n",
            "Epoch 36/50\n",
            "59/59 [==============================] - 16s 247ms/step - loss: 0.0151 - accuracy: 0.9979 - val_loss: 0.1737 - val_accuracy: 0.9513 - lr: 2.7253e-04\n",
            "Epoch 37/50\n",
            "59/59 [==============================] - 16s 249ms/step - loss: 0.0219 - accuracy: 0.9952 - val_loss: 0.2054 - val_accuracy: 0.9386 - lr: 2.5924e-04\n",
            "Epoch 38/50\n",
            "59/59 [==============================] - 16s 241ms/step - loss: 0.0235 - accuracy: 0.9947 - val_loss: 0.1996 - val_accuracy: 0.9407 - lr: 2.4660e-04\n",
            "Epoch 39/50\n",
            "59/59 [==============================] - 16s 244ms/step - loss: 0.0133 - accuracy: 0.9979 - val_loss: 0.1786 - val_accuracy: 0.9513 - lr: 2.3457e-04\n",
            "Epoch 40/50\n",
            "59/59 [==============================] - 16s 249ms/step - loss: 0.0135 - accuracy: 0.9979 - val_loss: 0.1775 - val_accuracy: 0.9470 - lr: 2.2313e-04\n",
            "Epoch 41/50\n",
            "59/59 [==============================] - 16s 251ms/step - loss: 0.0191 - accuracy: 0.9968 - val_loss: 0.1585 - val_accuracy: 0.9492 - lr: 2.1225e-04\n",
            "Epoch 42/50\n",
            "59/59 [==============================] - 16s 245ms/step - loss: 0.0106 - accuracy: 0.9989 - val_loss: 0.1691 - val_accuracy: 0.9513 - lr: 2.0190e-04\n",
            "Epoch 43/50\n",
            "59/59 [==============================] - 16s 251ms/step - loss: 0.0088 - accuracy: 1.0000 - val_loss: 0.1557 - val_accuracy: 0.9576 - lr: 1.9205e-04\n",
            "Epoch 44/50\n",
            "59/59 [==============================] - 16s 249ms/step - loss: 0.0116 - accuracy: 0.9979 - val_loss: 0.1623 - val_accuracy: 0.9555 - lr: 1.8268e-04\n",
            "Epoch 45/50\n",
            "59/59 [==============================] - 17s 252ms/step - loss: 0.0111 - accuracy: 0.9989 - val_loss: 0.1755 - val_accuracy: 0.9555 - lr: 1.7377e-04\n",
            "Epoch 46/50\n",
            "59/59 [==============================] - 16s 247ms/step - loss: 0.0139 - accuracy: 0.9968 - val_loss: 0.1851 - val_accuracy: 0.9492 - lr: 1.6530e-04\n",
            "Epoch 47/50\n",
            "59/59 [==============================] - 16s 250ms/step - loss: 0.0145 - accuracy: 0.9963 - val_loss: 0.1753 - val_accuracy: 0.9534 - lr: 1.5724e-04\n",
            "Epoch 48/50\n",
            "59/59 [==============================] - 16s 250ms/step - loss: 0.0110 - accuracy: 0.9989 - val_loss: 0.1851 - val_accuracy: 0.9576 - lr: 1.4957e-04\n",
            "Epoch 49/50\n",
            "59/59 [==============================] - 17s 248ms/step - loss: 0.0088 - accuracy: 0.9995 - val_loss: 0.1863 - val_accuracy: 0.9597 - lr: 1.4227e-04\n",
            "Epoch 50/50\n",
            "59/59 [==============================] - 16s 247ms/step - loss: 0.0114 - accuracy: 0.9979 - val_loss: 0.1860 - val_accuracy: 0.9555 - lr: 1.3534e-04\n"
          ]
        }
      ]
    },
    {
      "cell_type": "markdown",
      "source": [
        "### Visualisations"
      ],
      "metadata": {
        "id": "9DCKcMzAJQVQ"
      }
    },
    {
      "cell_type": "code",
      "source": [
        "color_map = defaultdict(dict)\n",
        "color_map[Conv2D][\"fill\"] = \"#048a7c\"\n",
        "color_map[AveragePooling2D][\"fill\"] = \"#25bdf0\"\n",
        "color_map[Dense][\"fill\"] = \"#78ba41\"\n",
        "\n",
        "vk.layered_view(vgg,\n",
        "                legend=True,\n",
        "                scale_xy=1,\n",
        "                scale_z=.01,\n",
        "                type_ignore=[PCAColorAugmentationGPU, Lambda, RandomFlip,\n",
        "                             Flatten, BatchNormalization, ReLU, PReLU],\n",
        "                color_map=color_map)"
      ],
      "metadata": {
        "colab": {
          "base_uri": "https://localhost:8080/",
          "height": 352
        },
        "id": "9d78cLFRJS_E",
        "outputId": "3a657ef5-ea5d-49c2-f066-a1d40a6864bd"
      },
      "execution_count": null,
      "outputs": [
        {
          "output_type": "execute_result",
          "data": {
            "text/plain": [
              "<PIL.Image.Image image mode=RGBA size=561x335>"
            ],
            "image/png": "[encoded data removed]"
          },
          "metadata": {},
          "execution_count": 26
        }
      ]
    },
    {
      "cell_type": "code",
      "source": [
        "history_vgg = pd.read_csv(\"/content/model_results/vgg.log\")\n",
        "plot_history(history_vgg)"
      ],
      "metadata": {
        "colab": {
          "base_uri": "https://localhost:8080/",
          "height": 573
        },
        "id": "1-7rIBv6JX91",
        "outputId": "8fdd2020-e01a-4b2c-ae76-f908640872a6"
      },
      "execution_count": null,
      "outputs": [
        {
          "output_type": "display_data",
          "data": {
            "text/plain": [
              "<Figure size 1200x600 with 2 Axes>"
            ],
            "image/png": "[encoded data removed]"
          },
          "metadata": {}
        }
      ]
    },
    {
      "cell_type": "markdown",
      "source": [
        "## ResNet"
      ],
      "metadata": {
        "id": "mUDnCMzEG_kM"
      }
    },
    {
      "cell_type": "markdown",
      "source": [
        "### Model Creation"
      ],
      "metadata": {
        "id": "Wz2W8iugK-x3"
      }
    },
    {
      "cell_type": "code",
      "source": [
        "def ResNet29(input_shape=INPUT_SHAPE):\n",
        "    \"\"\"\n",
        "    Creates a 29 layer residual neural network\n",
        "    :param input_shape: input shape of the tensors\n",
        "    :return: 29 model\n",
        "    \"\"\"\n",
        "\n",
        "    # Define the input as a tensor with shape input_shape\n",
        "    tensor_input = Input(shape=input_shape,\n",
        "                         batch_size=32,\n",
        "                         name=\"Input\")\n",
        "\n",
        "    # Preprocessing layers\n",
        "    tensor = tf.keras.layers.RandomFlip(mode=\"horizontal\",\n",
        "                                        input_shape=INPUT_SHAPE,\n",
        "                                        name=\"Random_horizontal_flip\")(tensor_input)\n",
        "    tensor = tf.keras.layers.Lambda(function=tf.image.per_image_standardization,\n",
        "                                    name=\"Per_image_standardisation\")(tensor)\n",
        "    tensor = PCAColorAugmentationGPU(name=\"PCA_Colour_Augmentation\")(tensor)\n",
        "\n",
        "    # Convolutional Block\n",
        "    tensor = ZeroPadding2D(padding=(3, 3),\n",
        "                           name=\"ZeroPadding\")(tensor)\n",
        "\n",
        "    tensor = Conv2D(filters=64,\n",
        "                    kernel_size=(7, 7),\n",
        "                    strides=(2, 2),\n",
        "                    kernel_initializer=\"HeNormal\",\n",
        "                    name=\"Conv1\")(tensor)\n",
        "\n",
        "    tensor = BatchNormalization(axis=3,\n",
        "                                name=\"BatchNorm1\")(tensor)\n",
        "\n",
        "    tensor = ReLU(name=\"ReLU1\")(tensor)\n",
        "\n",
        "    tensor = MaxPooling2D(pool_size=(3, 3),\n",
        "                          strides=(2, 2),\n",
        "                          padding=\"same\",\n",
        "                          name=\"MaxPool\")(tensor)\n",
        "\n",
        "    # 1st ResNet Block\n",
        "    tensor = three_layer_projection_block(tensor,\n",
        "                                          num_filters=64,\n",
        "                                          stage=1,\n",
        "                                          strides=(1, 1))\n",
        "\n",
        "    tensor = three_layer_identity_block(tensor,\n",
        "                                        num_filters=64,\n",
        "                                        stage=2)\n",
        "\n",
        "    tensor = three_layer_identity_block(tensor,\n",
        "                                        num_filters=64,\n",
        "                                        stage=3)\n",
        "\n",
        "    # 2nd ResNet Block\n",
        "    tensor = three_layer_projection_block(tensor,\n",
        "                                          num_filters=128,\n",
        "                                          stage=4)\n",
        "\n",
        "    tensor = three_layer_identity_block(tensor,\n",
        "                                        num_filters=128,\n",
        "                                        stage=5)\n",
        "\n",
        "    tensor = three_layer_identity_block(tensor,\n",
        "                                        num_filters=128,\n",
        "                                        stage=6)\n",
        "\n",
        "    tensor = three_layer_identity_block(tensor,\n",
        "                                        num_filters=128,\n",
        "                                        stage=7)\n",
        "\n",
        "\n",
        "    # 3rd ResNet Block\n",
        "    tensor = three_layer_projection_block(tensor,\n",
        "                                          num_filters=256,\n",
        "                                          stage=8)\n",
        "\n",
        "    tensor = three_layer_identity_block(tensor,\n",
        "                                        num_filters=256,\n",
        "                                        stage=9)\n",
        "\n",
        "\n",
        "\n",
        "    # Global Average Pooling\n",
        "    tensor = GlobalAveragePooling2D(name=\"GlobalAvgPooling\")(tensor)\n",
        "\n",
        "    # Output layer\n",
        "    tensor = Dense(units=5,\n",
        "                   activation=\"softmax\",\n",
        "                   bias_initializer=output_bias,\n",
        "                   name=\"Output\")(tensor)\n",
        "\n",
        "    # Create model\n",
        "    model = Model(inputs=tensor_input,\n",
        "                  outputs=tensor,\n",
        "                  name=\"ResNet29\")\n",
        "\n",
        "    return model"
      ],
      "metadata": {
        "id": "xXWivlBKbe9J"
      },
      "execution_count": null,
      "outputs": []
    },
    {
      "cell_type": "code",
      "source": [
        "resnet = ResNet29(input_shape=INPUT_SHAPE)"
      ],
      "metadata": {
        "id": "Rik_xo8P_ycO"
      },
      "execution_count": null,
      "outputs": []
    },
    {
      "cell_type": "code",
      "source": [
        "resnet.summary()"
      ],
      "metadata": {
        "colab": {
          "base_uri": "https://localhost:8080/"
        },
        "outputId": "85359468-30c6-413b-e455-ec59a91c2bc8",
        "id": "SgBUFq4qK-yB"
      },
      "execution_count": null,
      "outputs": [
        {
          "output_type": "stream",
          "name": "stdout",
          "text": [
            "Model: \"ResNet29\"\n",
            "__________________________________________________________________________________________________\n",
            " Layer (type)                Output Shape                 Param #   Connected to                  \n",
            "==================================================================================================\n",
            " Input (InputLayer)          [(32, 224, 224, 3)]          0         []                            \n",
            "                                                                                                  \n",
            " Random_horizontal_flip (Ra  (32, 224, 224, 3)            0         ['Input[0][0]']               \n",
            " ndomFlip)                                                                                        \n",
            "                                                                                                  \n",
            " Per_image_standardisation   (32, 224, 224, 3)            0         ['Random_horizontal_flip[0][0]\n",
            " (Lambda)                                                           ']                            \n",
            "                                                                                                  \n",
            " PCA_Colour_Augmentation (P  (32, 224, 224, 3)            0         ['Per_image_standardisation[0]\n",
            " CAColorAugmentationGPU)                                            [0]']                         \n",
            "                                                                                                  \n",
            " ZeroPadding (ZeroPadding2D  (32, 230, 230, 3)            0         ['PCA_Colour_Augmentation[0][0\n",
            " )                                                                  ]']                           \n",
            "                                                                                                  \n",
            " Conv1 (Conv2D)              (32, 112, 112, 64)           9472      ['ZeroPadding[0][0]']         \n",
            "                                                                                                  \n",
            " BatchNorm1 (BatchNormaliza  (32, 112, 112, 64)           256       ['Conv1[0][0]']               \n",
            " tion)                                                                                            \n",
            "                                                                                                  \n",
            " ReLU1 (ReLU)                (32, 112, 112, 64)           0         ['BatchNorm1[0][0]']          \n",
            "                                                                                                  \n",
            " MaxPool (MaxPooling2D)      (32, 56, 56, 64)             0         ['ReLU1[0][0]']               \n",
            "                                                                                                  \n",
            " Conv1_1 (Conv2D)            (32, 56, 56, 64)             4160      ['MaxPool[0][0]']             \n",
            "                                                                                                  \n",
            " BatchNorm1_1 (BatchNormali  (32, 56, 56, 64)             256       ['Conv1_1[0][0]']             \n",
            " zation)                                                                                          \n",
            "                                                                                                  \n",
            " ReLU1_1 (ReLU)              (32, 56, 56, 64)             0         ['BatchNorm1_1[0][0]']        \n",
            "                                                                                                  \n",
            " Conv2_1 (Conv2D)            (32, 56, 56, 64)             36928     ['ReLU1_1[0][0]']             \n",
            "                                                                                                  \n",
            " BatchNorm2_1 (BatchNormali  (32, 56, 56, 64)             256       ['Conv2_1[0][0]']             \n",
            " zation)                                                                                          \n",
            "                                                                                                  \n",
            " ReLU2_1 (ReLU)              (32, 56, 56, 64)             0         ['BatchNorm2_1[0][0]']        \n",
            "                                                                                                  \n",
            " Conv3_1 (Conv2D)            (32, 56, 56, 256)            16640     ['ReLU2_1[0][0]']             \n",
            "                                                                                                  \n",
            " BatchNorm3_1 (BatchNormali  (32, 56, 56, 256)            1024      ['Conv3_1[0][0]']             \n",
            " zation)                                                                                          \n",
            "                                                                                                  \n",
            " Conv4_1 (Conv2D)            (32, 56, 56, 256)            16640     ['MaxPool[0][0]']             \n",
            "                                                                                                  \n",
            " ReLU3_1 (ReLU)              (32, 56, 56, 256)            0         ['BatchNorm3_1[0][0]']        \n",
            "                                                                                                  \n",
            " BatchNorm4_1 (BatchNormali  (32, 56, 56, 256)            1024      ['Conv4_1[0][0]']             \n",
            " zation)                                                                                          \n",
            "                                                                                                  \n",
            " SkipConnection_1 (Add)      (32, 56, 56, 256)            0         ['ReLU3_1[0][0]',             \n",
            "                                                                     'BatchNorm4_1[0][0]']        \n",
            "                                                                                                  \n",
            " ReLU4_1 (ReLU)              (32, 56, 56, 256)            0         ['SkipConnection_1[0][0]']    \n",
            "                                                                                                  \n",
            " Conv1_2 (Conv2D)            (32, 56, 56, 64)             16448     ['ReLU4_1[0][0]']             \n",
            "                                                                                                  \n",
            " BatchNorm1_2 (BatchNormali  (32, 56, 56, 64)             256       ['Conv1_2[0][0]']             \n",
            " zation)                                                                                          \n",
            "                                                                                                  \n",
            " ReLU1_2 (ReLU)              (32, 56, 56, 64)             0         ['BatchNorm1_2[0][0]']        \n",
            "                                                                                                  \n",
            " Conv2_2 (Conv2D)            (32, 56, 56, 64)             36928     ['ReLU1_2[0][0]']             \n",
            "                                                                                                  \n",
            " BatchNorm2_2 (BatchNormali  (32, 56, 56, 64)             256       ['Conv2_2[0][0]']             \n",
            " zation)                                                                                          \n",
            "                                                                                                  \n",
            " ReLU2_2 (ReLU)              (32, 56, 56, 64)             0         ['BatchNorm2_2[0][0]']        \n",
            "                                                                                                  \n",
            " Conv3_2 (Conv2D)            (32, 56, 56, 256)            16640     ['ReLU2_2[0][0]']             \n",
            "                                                                                                  \n",
            " BatchNorm3_2 (BatchNormali  (32, 56, 56, 256)            1024      ['Conv3_2[0][0]']             \n",
            " zation)                                                                                          \n",
            "                                                                                                  \n",
            " ReLU3_2 (ReLU)              (32, 56, 56, 256)            0         ['BatchNorm3_2[0][0]']        \n",
            "                                                                                                  \n",
            " SkipConnection_2 (Add)      (32, 56, 56, 256)            0         ['ReLU3_2[0][0]',             \n",
            "                                                                     'ReLU4_1[0][0]']             \n",
            "                                                                                                  \n",
            " ReLU4_2 (ReLU)              (32, 56, 56, 256)            0         ['SkipConnection_2[0][0]']    \n",
            "                                                                                                  \n",
            " Conv1_3 (Conv2D)            (32, 56, 56, 64)             16448     ['ReLU4_2[0][0]']             \n",
            "                                                                                                  \n",
            " BatchNorm1_3 (BatchNormali  (32, 56, 56, 64)             256       ['Conv1_3[0][0]']             \n",
            " zation)                                                                                          \n",
            "                                                                                                  \n",
            " ReLU1_3 (ReLU)              (32, 56, 56, 64)             0         ['BatchNorm1_3[0][0]']        \n",
            "                                                                                                  \n",
            " Conv2_3 (Conv2D)            (32, 56, 56, 64)             36928     ['ReLU1_3[0][0]']             \n",
            "                                                                                                  \n",
            " BatchNorm2_3 (BatchNormali  (32, 56, 56, 64)             256       ['Conv2_3[0][0]']             \n",
            " zation)                                                                                          \n",
            "                                                                                                  \n",
            " ReLU2_3 (ReLU)              (32, 56, 56, 64)             0         ['BatchNorm2_3[0][0]']        \n",
            "                                                                                                  \n",
            " Conv3_3 (Conv2D)            (32, 56, 56, 256)            16640     ['ReLU2_3[0][0]']             \n",
            "                                                                                                  \n",
            " BatchNorm3_3 (BatchNormali  (32, 56, 56, 256)            1024      ['Conv3_3[0][0]']             \n",
            " zation)                                                                                          \n",
            "                                                                                                  \n",
            " ReLU3_3 (ReLU)              (32, 56, 56, 256)            0         ['BatchNorm3_3[0][0]']        \n",
            "                                                                                                  \n",
            " SkipConnection_3 (Add)      (32, 56, 56, 256)            0         ['ReLU3_3[0][0]',             \n",
            "                                                                     'ReLU4_2[0][0]']             \n",
            "                                                                                                  \n",
            " ReLU4_3 (ReLU)              (32, 56, 56, 256)            0         ['SkipConnection_3[0][0]']    \n",
            "                                                                                                  \n",
            " Conv1_4 (Conv2D)            (32, 28, 28, 128)            32896     ['ReLU4_3[0][0]']             \n",
            "                                                                                                  \n",
            " BatchNorm1_4 (BatchNormali  (32, 28, 28, 128)            512       ['Conv1_4[0][0]']             \n",
            " zation)                                                                                          \n",
            "                                                                                                  \n",
            " ReLU1_4 (ReLU)              (32, 28, 28, 128)            0         ['BatchNorm1_4[0][0]']        \n",
            "                                                                                                  \n",
            " Conv2_4 (Conv2D)            (32, 28, 28, 128)            147584    ['ReLU1_4[0][0]']             \n",
            "                                                                                                  \n",
            " BatchNorm2_4 (BatchNormali  (32, 28, 28, 128)            512       ['Conv2_4[0][0]']             \n",
            " zation)                                                                                          \n",
            "                                                                                                  \n",
            " ReLU2_4 (ReLU)              (32, 28, 28, 128)            0         ['BatchNorm2_4[0][0]']        \n",
            "                                                                                                  \n",
            " Conv3_4 (Conv2D)            (32, 28, 28, 512)            66048     ['ReLU2_4[0][0]']             \n",
            "                                                                                                  \n",
            " BatchNorm3_4 (BatchNormali  (32, 28, 28, 512)            2048      ['Conv3_4[0][0]']             \n",
            " zation)                                                                                          \n",
            "                                                                                                  \n",
            " Conv4_4 (Conv2D)            (32, 28, 28, 512)            131584    ['ReLU4_3[0][0]']             \n",
            "                                                                                                  \n",
            " ReLU3_4 (ReLU)              (32, 28, 28, 512)            0         ['BatchNorm3_4[0][0]']        \n",
            "                                                                                                  \n",
            " BatchNorm4_4 (BatchNormali  (32, 28, 28, 512)            2048      ['Conv4_4[0][0]']             \n",
            " zation)                                                                                          \n",
            "                                                                                                  \n",
            " SkipConnection_4 (Add)      (32, 28, 28, 512)            0         ['ReLU3_4[0][0]',             \n",
            "                                                                     'BatchNorm4_4[0][0]']        \n",
            "                                                                                                  \n",
            " ReLU4_4 (ReLU)              (32, 28, 28, 512)            0         ['SkipConnection_4[0][0]']    \n",
            "                                                                                                  \n",
            " Conv1_5 (Conv2D)            (32, 28, 28, 128)            65664     ['ReLU4_4[0][0]']             \n",
            "                                                                                                  \n",
            " BatchNorm1_5 (BatchNormali  (32, 28, 28, 128)            512       ['Conv1_5[0][0]']             \n",
            " zation)                                                                                          \n",
            "                                                                                                  \n",
            " ReLU1_5 (ReLU)              (32, 28, 28, 128)            0         ['BatchNorm1_5[0][0]']        \n",
            "                                                                                                  \n",
            " Conv2_5 (Conv2D)            (32, 28, 28, 128)            147584    ['ReLU1_5[0][0]']             \n",
            "                                                                                                  \n",
            " BatchNorm2_5 (BatchNormali  (32, 28, 28, 128)            512       ['Conv2_5[0][0]']             \n",
            " zation)                                                                                          \n",
            "                                                                                                  \n",
            " ReLU2_5 (ReLU)              (32, 28, 28, 128)            0         ['BatchNorm2_5[0][0]']        \n",
            "                                                                                                  \n",
            " Conv3_5 (Conv2D)            (32, 28, 28, 512)            66048     ['ReLU2_5[0][0]']             \n",
            "                                                                                                  \n",
            " BatchNorm3_5 (BatchNormali  (32, 28, 28, 512)            2048      ['Conv3_5[0][0]']             \n",
            " zation)                                                                                          \n",
            "                                                                                                  \n",
            " ReLU3_5 (ReLU)              (32, 28, 28, 512)            0         ['BatchNorm3_5[0][0]']        \n",
            "                                                                                                  \n",
            " SkipConnection_5 (Add)      (32, 28, 28, 512)            0         ['ReLU3_5[0][0]',             \n",
            "                                                                     'ReLU4_4[0][0]']             \n",
            "                                                                                                  \n",
            " ReLU4_5 (ReLU)              (32, 28, 28, 512)            0         ['SkipConnection_5[0][0]']    \n",
            "                                                                                                  \n",
            " Conv1_6 (Conv2D)            (32, 28, 28, 128)            65664     ['ReLU4_5[0][0]']             \n",
            "                                                                                                  \n",
            " BatchNorm1_6 (BatchNormali  (32, 28, 28, 128)            512       ['Conv1_6[0][0]']             \n",
            " zation)                                                                                          \n",
            "                                                                                                  \n",
            " ReLU1_6 (ReLU)              (32, 28, 28, 128)            0         ['BatchNorm1_6[0][0]']        \n",
            "                                                                                                  \n",
            " Conv2_6 (Conv2D)            (32, 28, 28, 128)            147584    ['ReLU1_6[0][0]']             \n",
            "                                                                                                  \n",
            " BatchNorm2_6 (BatchNormali  (32, 28, 28, 128)            512       ['Conv2_6[0][0]']             \n",
            " zation)                                                                                          \n",
            "                                                                                                  \n",
            " ReLU2_6 (ReLU)              (32, 28, 28, 128)            0         ['BatchNorm2_6[0][0]']        \n",
            "                                                                                                  \n",
            " Conv3_6 (Conv2D)            (32, 28, 28, 512)            66048     ['ReLU2_6[0][0]']             \n",
            "                                                                                                  \n",
            " BatchNorm3_6 (BatchNormali  (32, 28, 28, 512)            2048      ['Conv3_6[0][0]']             \n",
            " zation)                                                                                          \n",
            "                                                                                                  \n",
            " ReLU3_6 (ReLU)              (32, 28, 28, 512)            0         ['BatchNorm3_6[0][0]']        \n",
            "                                                                                                  \n",
            " SkipConnection_6 (Add)      (32, 28, 28, 512)            0         ['ReLU3_6[0][0]',             \n",
            "                                                                     'ReLU4_5[0][0]']             \n",
            "                                                                                                  \n",
            " ReLU4_6 (ReLU)              (32, 28, 28, 512)            0         ['SkipConnection_6[0][0]']    \n",
            "                                                                                                  \n",
            " Conv1_7 (Conv2D)            (32, 28, 28, 128)            65664     ['ReLU4_6[0][0]']             \n",
            "                                                                                                  \n",
            " BatchNorm1_7 (BatchNormali  (32, 28, 28, 128)            512       ['Conv1_7[0][0]']             \n",
            " zation)                                                                                          \n",
            "                                                                                                  \n",
            " ReLU1_7 (ReLU)              (32, 28, 28, 128)            0         ['BatchNorm1_7[0][0]']        \n",
            "                                                                                                  \n",
            " Conv2_7 (Conv2D)            (32, 28, 28, 128)            147584    ['ReLU1_7[0][0]']             \n",
            "                                                                                                  \n",
            " BatchNorm2_7 (BatchNormali  (32, 28, 28, 128)            512       ['Conv2_7[0][0]']             \n",
            " zation)                                                                                          \n",
            "                                                                                                  \n",
            " ReLU2_7 (ReLU)              (32, 28, 28, 128)            0         ['BatchNorm2_7[0][0]']        \n",
            "                                                                                                  \n",
            " Conv3_7 (Conv2D)            (32, 28, 28, 512)            66048     ['ReLU2_7[0][0]']             \n",
            "                                                                                                  \n",
            " BatchNorm3_7 (BatchNormali  (32, 28, 28, 512)            2048      ['Conv3_7[0][0]']             \n",
            " zation)                                                                                          \n",
            "                                                                                                  \n",
            " ReLU3_7 (ReLU)              (32, 28, 28, 512)            0         ['BatchNorm3_7[0][0]']        \n",
            "                                                                                                  \n",
            " SkipConnection_7 (Add)      (32, 28, 28, 512)            0         ['ReLU3_7[0][0]',             \n",
            "                                                                     'ReLU4_6[0][0]']             \n",
            "                                                                                                  \n",
            " ReLU4_7 (ReLU)              (32, 28, 28, 512)            0         ['SkipConnection_7[0][0]']    \n",
            "                                                                                                  \n",
            " Conv1_8 (Conv2D)            (32, 14, 14, 256)            131328    ['ReLU4_7[0][0]']             \n",
            "                                                                                                  \n",
            " BatchNorm1_8 (BatchNormali  (32, 14, 14, 256)            1024      ['Conv1_8[0][0]']             \n",
            " zation)                                                                                          \n",
            "                                                                                                  \n",
            " ReLU1_8 (ReLU)              (32, 14, 14, 256)            0         ['BatchNorm1_8[0][0]']        \n",
            "                                                                                                  \n",
            " Conv2_8 (Conv2D)            (32, 14, 14, 256)            590080    ['ReLU1_8[0][0]']             \n",
            "                                                                                                  \n",
            " BatchNorm2_8 (BatchNormali  (32, 14, 14, 256)            1024      ['Conv2_8[0][0]']             \n",
            " zation)                                                                                          \n",
            "                                                                                                  \n",
            " ReLU2_8 (ReLU)              (32, 14, 14, 256)            0         ['BatchNorm2_8[0][0]']        \n",
            "                                                                                                  \n",
            " Conv3_8 (Conv2D)            (32, 14, 14, 1024)           263168    ['ReLU2_8[0][0]']             \n",
            "                                                                                                  \n",
            " BatchNorm3_8 (BatchNormali  (32, 14, 14, 1024)           4096      ['Conv3_8[0][0]']             \n",
            " zation)                                                                                          \n",
            "                                                                                                  \n",
            " Conv4_8 (Conv2D)            (32, 14, 14, 1024)           525312    ['ReLU4_7[0][0]']             \n",
            "                                                                                                  \n",
            " ReLU3_8 (ReLU)              (32, 14, 14, 1024)           0         ['BatchNorm3_8[0][0]']        \n",
            "                                                                                                  \n",
            " BatchNorm4_8 (BatchNormali  (32, 14, 14, 1024)           4096      ['Conv4_8[0][0]']             \n",
            " zation)                                                                                          \n",
            "                                                                                                  \n",
            " SkipConnection_8 (Add)      (32, 14, 14, 1024)           0         ['ReLU3_8[0][0]',             \n",
            "                                                                     'BatchNorm4_8[0][0]']        \n",
            "                                                                                                  \n",
            " ReLU4_8 (ReLU)              (32, 14, 14, 1024)           0         ['SkipConnection_8[0][0]']    \n",
            "                                                                                                  \n",
            " Conv1_9 (Conv2D)            (32, 14, 14, 256)            262400    ['ReLU4_8[0][0]']             \n",
            "                                                                                                  \n",
            " BatchNorm1_9 (BatchNormali  (32, 14, 14, 256)            1024      ['Conv1_9[0][0]']             \n",
            " zation)                                                                                          \n",
            "                                                                                                  \n",
            " ReLU1_9 (ReLU)              (32, 14, 14, 256)            0         ['BatchNorm1_9[0][0]']        \n",
            "                                                                                                  \n",
            " Conv2_9 (Conv2D)            (32, 14, 14, 256)            590080    ['ReLU1_9[0][0]']             \n",
            "                                                                                                  \n",
            " BatchNorm2_9 (BatchNormali  (32, 14, 14, 256)            1024      ['Conv2_9[0][0]']             \n",
            " zation)                                                                                          \n",
            "                                                                                                  \n",
            " ReLU2_9 (ReLU)              (32, 14, 14, 256)            0         ['BatchNorm2_9[0][0]']        \n",
            "                                                                                                  \n",
            " Conv3_9 (Conv2D)            (32, 14, 14, 1024)           263168    ['ReLU2_9[0][0]']             \n",
            "                                                                                                  \n",
            " BatchNorm3_9 (BatchNormali  (32, 14, 14, 1024)           4096      ['Conv3_9[0][0]']             \n",
            " zation)                                                                                          \n",
            "                                                                                                  \n",
            " ReLU3_9 (ReLU)              (32, 14, 14, 1024)           0         ['BatchNorm3_9[0][0]']        \n",
            "                                                                                                  \n",
            " SkipConnection_9 (Add)      (32, 14, 14, 1024)           0         ['ReLU3_9[0][0]',             \n",
            "                                                                     'ReLU4_8[0][0]']             \n",
            "                                                                                                  \n",
            " ReLU4_9 (ReLU)              (32, 14, 14, 1024)           0         ['SkipConnection_9[0][0]']    \n",
            "                                                                                                  \n",
            " GlobalAvgPooling (GlobalAv  (32, 1024)                   0         ['ReLU4_9[0][0]']             \n",
            " eragePooling2D)                                                                                  \n",
            "                                                                                                  \n",
            " Output (Dense)              (32, 5)                      5125      ['GlobalAvgPooling[0][0]']    \n",
            "                                                                                                  \n",
            "==================================================================================================\n",
            "Total params: 4107141 (15.67 MB)\n",
            "Trainable params: 4088837 (15.60 MB)\n",
            "Non-trainable params: 18304 (71.50 KB)\n",
            "__________________________________________________________________________________________________\n"
          ]
        }
      ]
    },
    {
      "cell_type": "markdown",
      "source": [
        "### Model Compiling"
      ],
      "metadata": {
        "id": "KZ85RwqZLDxx"
      }
    },
    {
      "cell_type": "code",
      "source": [
        "resnet.compile(loss=SparseCategoricalCrossentropy(),\n",
        "               optimizer=Adam(),\n",
        "               metrics=[\"accuracy\"])"
      ],
      "metadata": {
        "id": "9aOwYn7bLDyI"
      },
      "execution_count": null,
      "outputs": []
    },
    {
      "cell_type": "markdown",
      "source": [
        "### Model Training\n"
      ],
      "metadata": {
        "id": "G1pCBbC9LJc2"
      }
    },
    {
      "cell_type": "markdown",
      "source": [
        "#### Callbacks"
      ],
      "metadata": {
        "id": "jx-5tNDjLJc_"
      }
    },
    {
      "cell_type": "code",
      "source": [
        "lr_scheduler = tf.keras.callbacks.LearningRateScheduler(scheduler)\n",
        "resnet_csv_logger = CSVLogger(\"/content/model_results/resnet.log\")"
      ],
      "metadata": {
        "id": "0x4zfnA8LJc_"
      },
      "execution_count": null,
      "outputs": []
    },
    {
      "cell_type": "markdown",
      "source": [
        "#### Training"
      ],
      "metadata": {
        "id": "jYPq6jnJLJdA"
      }
    },
    {
      "cell_type": "code",
      "source": [
        "resnet_history = resnet.fit(train_ds,\n",
        "                            epochs=50,\n",
        "                            steps_per_epoch=len(train_ds),\n",
        "                            validation_data=val_ds,\n",
        "                            validation_steps=len(val_ds),\n",
        "                            class_weight=class_weights,\n",
        "                            callbacks=[lr_scheduler, resnet_csv_logger])"
      ],
      "metadata": {
        "colab": {
          "base_uri": "https://localhost:8080/"
        },
        "outputId": "4a2c1b67-906b-4e30-e4b8-5a9218cbbe07",
        "id": "t8XwVnksLJdA"
      },
      "execution_count": null,
      "outputs": [
        {
          "output_type": "stream",
          "name": "stdout",
          "text": [
            "Epoch 1/50\n",
            "59/59 [==============================] - 35s 223ms/step - loss: 0.9408 - accuracy: 0.6695 - val_loss: 1857.6193 - val_accuracy: 0.1483 - lr: 0.0010\n",
            "Epoch 2/50\n",
            "59/59 [==============================] - 16s 237ms/step - loss: 0.6472 - accuracy: 0.7643 - val_loss: 44.8617 - val_accuracy: 0.1589 - lr: 0.0010\n",
            "Epoch 3/50\n",
            "59/59 [==============================] - 16s 240ms/step - loss: 0.5323 - accuracy: 0.8067 - val_loss: 3.7808 - val_accuracy: 0.5466 - lr: 0.0010\n",
            "Epoch 4/50\n",
            "59/59 [==============================] - 16s 239ms/step - loss: 0.4389 - accuracy: 0.8453 - val_loss: 0.6439 - val_accuracy: 0.7564 - lr: 0.0010\n",
            "Epoch 5/50\n",
            "59/59 [==============================] - 16s 236ms/step - loss: 0.4047 - accuracy: 0.8316 - val_loss: 0.9845 - val_accuracy: 0.6886 - lr: 0.0010\n",
            "Epoch 6/50\n",
            "59/59 [==============================] - 15s 235ms/step - loss: 0.3558 - accuracy: 0.8660 - val_loss: 0.9148 - val_accuracy: 0.7712 - lr: 0.0010\n",
            "Epoch 7/50\n",
            "59/59 [==============================] - 15s 235ms/step - loss: 0.3046 - accuracy: 0.8782 - val_loss: 0.7589 - val_accuracy: 0.7691 - lr: 0.0010\n",
            "Epoch 8/50\n",
            "59/59 [==============================] - 16s 238ms/step - loss: 0.2772 - accuracy: 0.8946 - val_loss: 1.1010 - val_accuracy: 0.7818 - lr: 0.0010\n",
            "Epoch 9/50\n",
            "59/59 [==============================] - 16s 238ms/step - loss: 0.3066 - accuracy: 0.8877 - val_loss: 0.7555 - val_accuracy: 0.7691 - lr: 0.0010\n",
            "Epoch 10/50\n",
            "59/59 [==============================] - 15s 235ms/step - loss: 0.2734 - accuracy: 0.8941 - val_loss: 0.4231 - val_accuracy: 0.8835 - lr: 0.0010\n",
            "Epoch 11/50\n",
            "59/59 [==============================] - 15s 235ms/step - loss: 0.1967 - accuracy: 0.9211 - val_loss: 0.4559 - val_accuracy: 0.8602 - lr: 9.5123e-04\n",
            "Epoch 12/50\n",
            "59/59 [==============================] - 16s 236ms/step - loss: 0.1743 - accuracy: 0.9232 - val_loss: 0.3545 - val_accuracy: 0.8898 - lr: 9.0484e-04\n",
            "Epoch 13/50\n",
            "59/59 [==============================] - 16s 238ms/step - loss: 0.2344 - accuracy: 0.9105 - val_loss: 0.5213 - val_accuracy: 0.8369 - lr: 8.6071e-04\n",
            "Epoch 14/50\n",
            "59/59 [==============================] - 16s 240ms/step - loss: 0.1470 - accuracy: 0.9417 - val_loss: 0.1956 - val_accuracy: 0.9322 - lr: 8.1873e-04\n",
            "Epoch 15/50\n",
            "59/59 [==============================] - 16s 238ms/step - loss: 0.0923 - accuracy: 0.9613 - val_loss: 0.3123 - val_accuracy: 0.9025 - lr: 7.7880e-04\n",
            "Epoch 16/50\n",
            "59/59 [==============================] - 16s 237ms/step - loss: 0.0961 - accuracy: 0.9513 - val_loss: 0.2554 - val_accuracy: 0.9174 - lr: 7.4082e-04\n",
            "Epoch 17/50\n",
            "59/59 [==============================] - 15s 236ms/step - loss: 0.0883 - accuracy: 0.9635 - val_loss: 0.3079 - val_accuracy: 0.9089 - lr: 7.0469e-04\n",
            "Epoch 18/50\n",
            "59/59 [==============================] - 16s 239ms/step - loss: 0.0923 - accuracy: 0.9608 - val_loss: 0.6005 - val_accuracy: 0.8284 - lr: 6.7032e-04\n",
            "Epoch 19/50\n",
            "59/59 [==============================] - 16s 238ms/step - loss: 0.0868 - accuracy: 0.9677 - val_loss: 0.2739 - val_accuracy: 0.9068 - lr: 6.3763e-04\n",
            "Epoch 20/50\n",
            "59/59 [==============================] - 15s 236ms/step - loss: 0.0563 - accuracy: 0.9799 - val_loss: 0.2606 - val_accuracy: 0.9089 - lr: 6.0653e-04\n",
            "Epoch 21/50\n",
            "59/59 [==============================] - 15s 235ms/step - loss: 0.0392 - accuracy: 0.9836 - val_loss: 0.2346 - val_accuracy: 0.9216 - lr: 5.7695e-04\n",
            "Epoch 22/50\n",
            "59/59 [==============================] - 16s 238ms/step - loss: 0.0485 - accuracy: 0.9783 - val_loss: 0.2857 - val_accuracy: 0.9280 - lr: 5.4881e-04\n",
            "Epoch 23/50\n",
            "59/59 [==============================] - 16s 237ms/step - loss: 0.0523 - accuracy: 0.9740 - val_loss: 0.3159 - val_accuracy: 0.9258 - lr: 5.2205e-04\n",
            "Epoch 24/50\n",
            "59/59 [==============================] - 16s 238ms/step - loss: 0.0565 - accuracy: 0.9740 - val_loss: 0.2675 - val_accuracy: 0.9343 - lr: 4.9659e-04\n",
            "Epoch 25/50\n",
            "59/59 [==============================] - 15s 234ms/step - loss: 0.0374 - accuracy: 0.9825 - val_loss: 0.2294 - val_accuracy: 0.9428 - lr: 4.7237e-04\n",
            "Epoch 26/50\n",
            "59/59 [==============================] - 16s 239ms/step - loss: 0.0322 - accuracy: 0.9868 - val_loss: 0.2691 - val_accuracy: 0.9258 - lr: 4.4933e-04\n",
            "Epoch 27/50\n",
            "59/59 [==============================] - 15s 234ms/step - loss: 0.0410 - accuracy: 0.9852 - val_loss: 0.2646 - val_accuracy: 0.9258 - lr: 4.2742e-04\n",
            "Epoch 28/50\n",
            "59/59 [==============================] - 15s 234ms/step - loss: 0.0410 - accuracy: 0.9804 - val_loss: 0.3037 - val_accuracy: 0.9280 - lr: 4.0657e-04\n",
            "Epoch 29/50\n",
            "59/59 [==============================] - 16s 234ms/step - loss: 0.0368 - accuracy: 0.9846 - val_loss: 0.2576 - val_accuracy: 0.9258 - lr: 3.8674e-04\n",
            "Epoch 30/50\n",
            "59/59 [==============================] - 15s 231ms/step - loss: 0.0190 - accuracy: 0.9942 - val_loss: 0.2092 - val_accuracy: 0.9407 - lr: 3.6788e-04\n",
            "Epoch 31/50\n",
            "59/59 [==============================] - 15s 232ms/step - loss: 0.0202 - accuracy: 0.9910 - val_loss: 0.2195 - val_accuracy: 0.9428 - lr: 3.4994e-04\n",
            "Epoch 32/50\n",
            "59/59 [==============================] - 15s 232ms/step - loss: 0.0193 - accuracy: 0.9936 - val_loss: 0.2300 - val_accuracy: 0.9343 - lr: 3.3287e-04\n",
            "Epoch 33/50\n",
            "59/59 [==============================] - 15s 231ms/step - loss: 0.0179 - accuracy: 0.9921 - val_loss: 0.2092 - val_accuracy: 0.9449 - lr: 3.1664e-04\n",
            "Epoch 34/50\n",
            "59/59 [==============================] - 15s 232ms/step - loss: 0.0116 - accuracy: 0.9936 - val_loss: 0.2203 - val_accuracy: 0.9470 - lr: 3.0119e-04\n",
            "Epoch 35/50\n",
            "59/59 [==============================] - 15s 233ms/step - loss: 0.0091 - accuracy: 0.9952 - val_loss: 0.2757 - val_accuracy: 0.9195 - lr: 2.8651e-04\n",
            "Epoch 36/50\n",
            "59/59 [==============================] - 16s 236ms/step - loss: 0.0076 - accuracy: 0.9979 - val_loss: 0.1961 - val_accuracy: 0.9492 - lr: 2.7253e-04\n",
            "Epoch 37/50\n",
            "59/59 [==============================] - 15s 233ms/step - loss: 0.0134 - accuracy: 0.9952 - val_loss: 0.1957 - val_accuracy: 0.9386 - lr: 2.5924e-04\n",
            "Epoch 38/50\n",
            "59/59 [==============================] - 15s 235ms/step - loss: 0.0069 - accuracy: 0.9984 - val_loss: 0.1997 - val_accuracy: 0.9492 - lr: 2.4660e-04\n",
            "Epoch 39/50\n",
            "59/59 [==============================] - 15s 236ms/step - loss: 0.0090 - accuracy: 0.9963 - val_loss: 0.2078 - val_accuracy: 0.9492 - lr: 2.3457e-04\n",
            "Epoch 40/50\n",
            "59/59 [==============================] - 16s 236ms/step - loss: 0.0060 - accuracy: 0.9963 - val_loss: 0.2187 - val_accuracy: 0.9492 - lr: 2.2313e-04\n",
            "Epoch 41/50\n",
            "59/59 [==============================] - 15s 234ms/step - loss: 0.0079 - accuracy: 0.9968 - val_loss: 0.2441 - val_accuracy: 0.9280 - lr: 2.1225e-04\n",
            "Epoch 42/50\n",
            "59/59 [==============================] - 15s 233ms/step - loss: 0.0120 - accuracy: 0.9958 - val_loss: 0.2524 - val_accuracy: 0.9407 - lr: 2.0190e-04\n",
            "Epoch 43/50\n",
            "59/59 [==============================] - 15s 234ms/step - loss: 0.0045 - accuracy: 0.9989 - val_loss: 0.1834 - val_accuracy: 0.9555 - lr: 1.9205e-04\n",
            "Epoch 44/50\n",
            "59/59 [==============================] - 15s 234ms/step - loss: 0.0023 - accuracy: 1.0000 - val_loss: 0.1758 - val_accuracy: 0.9534 - lr: 1.8268e-04\n",
            "Epoch 45/50\n",
            "59/59 [==============================] - 15s 233ms/step - loss: 0.0041 - accuracy: 0.9995 - val_loss: 0.1976 - val_accuracy: 0.9492 - lr: 1.7377e-04\n",
            "Epoch 46/50\n",
            "59/59 [==============================] - 15s 232ms/step - loss: 0.0063 - accuracy: 0.9974 - val_loss: 0.1814 - val_accuracy: 0.9555 - lr: 1.6530e-04\n",
            "Epoch 47/50\n",
            "59/59 [==============================] - 15s 235ms/step - loss: 0.0016 - accuracy: 1.0000 - val_loss: 0.1743 - val_accuracy: 0.9555 - lr: 1.5724e-04\n",
            "Epoch 48/50\n",
            "59/59 [==============================] - 15s 235ms/step - loss: 0.0022 - accuracy: 0.9995 - val_loss: 0.1805 - val_accuracy: 0.9555 - lr: 1.4957e-04\n",
            "Epoch 49/50\n",
            "59/59 [==============================] - 16s 236ms/step - loss: 0.0020 - accuracy: 0.9995 - val_loss: 0.1922 - val_accuracy: 0.9555 - lr: 1.4227e-04\n",
            "Epoch 50/50\n",
            "59/59 [==============================] - 16s 238ms/step - loss: 0.0025 - accuracy: 0.9989 - val_loss: 0.1892 - val_accuracy: 0.9555 - lr: 1.3534e-04\n"
          ]
        }
      ]
    },
    {
      "cell_type": "markdown",
      "source": [
        "### Visualisations"
      ],
      "metadata": {
        "id": "xdVb-i9hLPTY"
      }
    },
    {
      "cell_type": "code",
      "source": [
        "history_resnet = pd.read_csv(\"/content/model_results/resnet.log\")\n",
        "plot_history(history_resnet)"
      ],
      "metadata": {
        "colab": {
          "base_uri": "https://localhost:8080/"
        },
        "id": "KWy4yRJoLUFr",
        "outputId": "dd39465a-75d1-472b-b334-d09ed65aa53b"
      },
      "execution_count": null,
      "outputs": [
        {
          "output_type": "display_data",
          "data": {
            "text/plain": [
              "<Figure size 1200x600 with 2 Axes>"
            ],
            "image/png": "[encoded data removed]"
          },
          "metadata": {}
        }
      ]
    },
    {
      "cell_type": "markdown",
      "source": [
        "## MobileNet"
      ],
      "metadata": {
        "id": "VNQN8HIAHBFj"
      }
    },
    {
      "cell_type": "markdown",
      "source": [
        "### Model Creation"
      ],
      "metadata": {
        "id": "XbhK_xUGL79P"
      }
    },
    {
      "cell_type": "code",
      "source": [
        "def mobilenet(input_shape=INPUT_SHAPE):\n",
        "    \"\"\"\n",
        "    Creates a 35 layer mobilenet neural network\n",
        "    :param input_shape: input shape of the tensors\n",
        "    :return: ResNet35 model\n",
        "    \"\"\"\n",
        "\n",
        "    # Define the input as a tensor with shape input_shape\n",
        "    tensor_input = Input(shape=input_shape,\n",
        "                         batch_size=32,\n",
        "                         name=\"Input\")\n",
        "\n",
        "    # Preprocessing layers\n",
        "    tensor = tf.keras.layers.RandomFlip(mode=\"horizontal\",\n",
        "                                        input_shape=INPUT_SHAPE,\n",
        "                                        name=\"Random_horizontal_flip\")(tensor_input)\n",
        "    tensor = tf.keras.layers.Lambda(function=tf.image.per_image_standardization,\n",
        "                                    name=\"Per_image_standardisation\")(tensor)\n",
        "    tensor = PCAColorAugmentationGPU(name=\"PCA_Colour_Augmentation\")(tensor)\n",
        "\n",
        "    # Convolutional Block\n",
        "    tensor = Conv2D(filters=32,\n",
        "                    kernel_size=(3, 3),\n",
        "                    strides=(2, 2),\n",
        "                    padding=\"same\",\n",
        "                    kernel_initializer=\"HeNormal\",\n",
        "                    name=\"Conv1\")(tensor)\n",
        "\n",
        "    tensor = BatchNormalization(axis=3,\n",
        "                                name=\"BatchNorm1\")(tensor)\n",
        "\n",
        "    tensor = Activation(activation=\"relu\",\n",
        "                        name=\"ReLU1\")(tensor)\n",
        "\n",
        "\n",
        "    # 1st Bottleneck Sequence\n",
        "    tensor = bottleneck_block(tensor,\n",
        "                              num_filters=16,\n",
        "                              stage=1)\n",
        "\n",
        "    # 2nd Bottleneck Sequence\n",
        "    tensor = bottleneck_block(tensor,\n",
        "                              num_filters=24,\n",
        "                              strides=(2, 2),\n",
        "                              stage=2)\n",
        "\n",
        "    tensor = bottleneck_block(tensor,\n",
        "                              num_filters=24,\n",
        "                              stage=3)\n",
        "\n",
        "    # 3rd Bottleneck Sequence\n",
        "    tensor = bottleneck_block(tensor,\n",
        "                              num_filters=32,\n",
        "                              strides=(2, 2),\n",
        "                              stage=4)\n",
        "\n",
        "    tensor = bottleneck_block(tensor,\n",
        "                              num_filters=32,\n",
        "                              stage=5)\n",
        "\n",
        "    # 4th Bottleneck Sequence\n",
        "    tensor = bottleneck_block(tensor,\n",
        "                              num_filters=64,\n",
        "                              strides=(2, 2),\n",
        "                              stage=6)\n",
        "\n",
        "    tensor = bottleneck_block(tensor,\n",
        "                              num_filters=64,\n",
        "                              stage=7)\n",
        "\n",
        "    tensor = bottleneck_block(tensor,\n",
        "                              num_filters=64,\n",
        "                              stage=8)\n",
        "\n",
        "    tensor = bottleneck_block(tensor,\n",
        "                              num_filters=64,\n",
        "                              stage=9)\n",
        "\n",
        "    # 5th Bottleneck Sequence\n",
        "    tensor = bottleneck_block(tensor,\n",
        "                              num_filters=96,\n",
        "                              stage=10)\n",
        "\n",
        "    tensor = bottleneck_block(tensor,\n",
        "                              num_filters=96,\n",
        "                              stage=11)\n",
        "\n",
        "    tensor = bottleneck_block(tensor,\n",
        "                              num_filters=96,\n",
        "                              stage=12)\n",
        "\n",
        "    # Convolutional Block\n",
        "    tensor = Conv2D(filters=160,\n",
        "                    kernel_size=(1, 1),\n",
        "                    strides=(1, 1),\n",
        "                    padding=\"valid\",\n",
        "                    kernel_initializer=\"HeNormal\",\n",
        "                    name=\"Conv2\")(tensor)\n",
        "\n",
        "    tensor = BatchNormalization(axis=3,\n",
        "                                name=\"BatchNorm2\")(tensor)\n",
        "\n",
        "    tensor = Activation(activation=\"relu\",\n",
        "                        name=\"ReLU2\")(tensor)\n",
        "\n",
        "    # Global Average Pooling\n",
        "    tensor = GlobalAveragePooling2D(name=\"GlobalAvgPooling\")(tensor)\n",
        "\n",
        "    # Output layer\n",
        "    tensor = Dense(units=5,\n",
        "                   activation=\"softmax\",\n",
        "                   bias_initializer=output_bias,\n",
        "                   name=\"Output\")(tensor)\n",
        "\n",
        "\n",
        "    # Create model\n",
        "    model = Model(inputs=tensor_input,\n",
        "                  outputs=tensor,\n",
        "                  name=\"mobilenet_2\")\n",
        "\n",
        "    return model"
      ],
      "metadata": {
        "id": "4yO7IqbSIADM"
      },
      "execution_count": null,
      "outputs": []
    },
    {
      "cell_type": "code",
      "source": [
        "mnet = mobilenet(input_shape=INPUT_SHAPE)"
      ],
      "metadata": {
        "id": "qbSqnIYaIkAy"
      },
      "execution_count": null,
      "outputs": []
    },
    {
      "cell_type": "code",
      "source": [
        "mnet.summary()"
      ],
      "metadata": {
        "colab": {
          "base_uri": "https://localhost:8080/"
        },
        "id": "TOHTiYgHIuMq",
        "outputId": "724d012e-bbdd-4847-c6b6-2a89c862e90e"
      },
      "execution_count": null,
      "outputs": [
        {
          "output_type": "stream",
          "name": "stdout",
          "text": [
            "Model: \"mobilenet_2\"\n",
            "__________________________________________________________________________________________________\n",
            " Layer (type)                Output Shape                 Param #   Connected to                  \n",
            "==================================================================================================\n",
            " Input (InputLayer)          [(32, 224, 224, 3)]          0         []                            \n",
            "                                                                                                  \n",
            " Random_horizontal_flip (Ra  (32, 224, 224, 3)            0         ['Input[0][0]']               \n",
            " ndomFlip)                                                                                        \n",
            "                                                                                                  \n",
            " Per_image_standardisation   (32, 224, 224, 3)            0         ['Random_horizontal_flip[0][0]\n",
            " (Lambda)                                                           ']                            \n",
            "                                                                                                  \n",
            " PCA_Colour_Augmentation (P  (32, 224, 224, 3)            0         ['Per_image_standardisation[0]\n",
            " CAColorAugmentationGPU)                                            [0]']                         \n",
            "                                                                                                  \n",
            " Conv1 (Conv2D)              (32, 112, 112, 32)           896       ['PCA_Colour_Augmentation[0][0\n",
            "                                                                    ]']                           \n",
            "                                                                                                  \n",
            " BatchNorm1 (BatchNormaliza  (32, 112, 112, 32)           128       ['Conv1[0][0]']               \n",
            " tion)                                                                                            \n",
            "                                                                                                  \n",
            " ReLU1 (Activation)          (32, 112, 112, 32)           0         ['BatchNorm1[0][0]']          \n",
            "                                                                                                  \n",
            " Conv1_1 (Conv2D)            (32, 112, 112, 96)           3168      ['ReLU1[0][0]']               \n",
            "                                                                                                  \n",
            " BatchNorm1_1 (BatchNormali  (32, 112, 112, 96)           384       ['Conv1_1[0][0]']             \n",
            " zation)                                                                                          \n",
            "                                                                                                  \n",
            " ReLU1_1 (Activation)        (32, 112, 112, 96)           0         ['BatchNorm1_1[0][0]']        \n",
            "                                                                                                  \n",
            " Conv2_1 (DepthwiseConv2D)   (32, 112, 112, 96)           960       ['ReLU1_1[0][0]']             \n",
            "                                                                                                  \n",
            " BatchNorm2_1 (BatchNormali  (32, 112, 112, 96)           384       ['Conv2_1[0][0]']             \n",
            " zation)                                                                                          \n",
            "                                                                                                  \n",
            " ReLU2_1 (Activation)        (32, 112, 112, 96)           0         ['BatchNorm2_1[0][0]']        \n",
            "                                                                                                  \n",
            " Conv3_1 (Conv2D)            (32, 112, 112, 16)           1552      ['ReLU2_1[0][0]']             \n",
            "                                                                                                  \n",
            " BatchNorm3_1 (BatchNormali  (32, 112, 112, 16)           64        ['Conv3_1[0][0]']             \n",
            " zation)                                                                                          \n",
            "                                                                                                  \n",
            " Conv_Dim_1 (Conv2D)         (32, 112, 112, 16)           528       ['ReLU1[0][0]']               \n",
            "                                                                                                  \n",
            " SkipConnection_1 (Add)      (32, 112, 112, 16)           0         ['BatchNorm3_1[0][0]',        \n",
            "                                                                     'Conv_Dim_1[0][0]']          \n",
            "                                                                                                  \n",
            " Conv1_2 (Conv2D)            (32, 56, 56, 144)            2448      ['SkipConnection_1[0][0]']    \n",
            "                                                                                                  \n",
            " BatchNorm1_2 (BatchNormali  (32, 56, 56, 144)            576       ['Conv1_2[0][0]']             \n",
            " zation)                                                                                          \n",
            "                                                                                                  \n",
            " ReLU1_2 (Activation)        (32, 56, 56, 144)            0         ['BatchNorm1_2[0][0]']        \n",
            "                                                                                                  \n",
            " Conv2_2 (DepthwiseConv2D)   (32, 56, 56, 144)            1440      ['ReLU1_2[0][0]']             \n",
            "                                                                                                  \n",
            " BatchNorm2_2 (BatchNormali  (32, 56, 56, 144)            576       ['Conv2_2[0][0]']             \n",
            " zation)                                                                                          \n",
            "                                                                                                  \n",
            " ReLU2_2 (Activation)        (32, 56, 56, 144)            0         ['BatchNorm2_2[0][0]']        \n",
            "                                                                                                  \n",
            " Conv3_2 (Conv2D)            (32, 56, 56, 24)             3480      ['ReLU2_2[0][0]']             \n",
            "                                                                                                  \n",
            " BatchNorm3_2 (BatchNormali  (32, 56, 56, 24)             96        ['Conv3_2[0][0]']             \n",
            " zation)                                                                                          \n",
            "                                                                                                  \n",
            " Conv1_3 (Conv2D)            (32, 56, 56, 144)            3600      ['BatchNorm3_2[0][0]']        \n",
            "                                                                                                  \n",
            " BatchNorm1_3 (BatchNormali  (32, 56, 56, 144)            576       ['Conv1_3[0][0]']             \n",
            " zation)                                                                                          \n",
            "                                                                                                  \n",
            " ReLU1_3 (Activation)        (32, 56, 56, 144)            0         ['BatchNorm1_3[0][0]']        \n",
            "                                                                                                  \n",
            " Conv2_3 (DepthwiseConv2D)   (32, 56, 56, 144)            1440      ['ReLU1_3[0][0]']             \n",
            "                                                                                                  \n",
            " BatchNorm2_3 (BatchNormali  (32, 56, 56, 144)            576       ['Conv2_3[0][0]']             \n",
            " zation)                                                                                          \n",
            "                                                                                                  \n",
            " ReLU2_3 (Activation)        (32, 56, 56, 144)            0         ['BatchNorm2_3[0][0]']        \n",
            "                                                                                                  \n",
            " Conv3_3 (Conv2D)            (32, 56, 56, 24)             3480      ['ReLU2_3[0][0]']             \n",
            "                                                                                                  \n",
            " BatchNorm3_3 (BatchNormali  (32, 56, 56, 24)             96        ['Conv3_3[0][0]']             \n",
            " zation)                                                                                          \n",
            "                                                                                                  \n",
            " SkipConnection_3 (Add)      (32, 56, 56, 24)             0         ['BatchNorm3_3[0][0]',        \n",
            "                                                                     'BatchNorm3_2[0][0]']        \n",
            "                                                                                                  \n",
            " Conv1_4 (Conv2D)            (32, 28, 28, 192)            4800      ['SkipConnection_3[0][0]']    \n",
            "                                                                                                  \n",
            " BatchNorm1_4 (BatchNormali  (32, 28, 28, 192)            768       ['Conv1_4[0][0]']             \n",
            " zation)                                                                                          \n",
            "                                                                                                  \n",
            " ReLU1_4 (Activation)        (32, 28, 28, 192)            0         ['BatchNorm1_4[0][0]']        \n",
            "                                                                                                  \n",
            " Conv2_4 (DepthwiseConv2D)   (32, 28, 28, 192)            1920      ['ReLU1_4[0][0]']             \n",
            "                                                                                                  \n",
            " BatchNorm2_4 (BatchNormali  (32, 28, 28, 192)            768       ['Conv2_4[0][0]']             \n",
            " zation)                                                                                          \n",
            "                                                                                                  \n",
            " ReLU2_4 (Activation)        (32, 28, 28, 192)            0         ['BatchNorm2_4[0][0]']        \n",
            "                                                                                                  \n",
            " Conv3_4 (Conv2D)            (32, 28, 28, 32)             6176      ['ReLU2_4[0][0]']             \n",
            "                                                                                                  \n",
            " BatchNorm3_4 (BatchNormali  (32, 28, 28, 32)             128       ['Conv3_4[0][0]']             \n",
            " zation)                                                                                          \n",
            "                                                                                                  \n",
            " Conv1_5 (Conv2D)            (32, 28, 28, 192)            6336      ['BatchNorm3_4[0][0]']        \n",
            "                                                                                                  \n",
            " BatchNorm1_5 (BatchNormali  (32, 28, 28, 192)            768       ['Conv1_5[0][0]']             \n",
            " zation)                                                                                          \n",
            "                                                                                                  \n",
            " ReLU1_5 (Activation)        (32, 28, 28, 192)            0         ['BatchNorm1_5[0][0]']        \n",
            "                                                                                                  \n",
            " Conv2_5 (DepthwiseConv2D)   (32, 28, 28, 192)            1920      ['ReLU1_5[0][0]']             \n",
            "                                                                                                  \n",
            " BatchNorm2_5 (BatchNormali  (32, 28, 28, 192)            768       ['Conv2_5[0][0]']             \n",
            " zation)                                                                                          \n",
            "                                                                                                  \n",
            " ReLU2_5 (Activation)        (32, 28, 28, 192)            0         ['BatchNorm2_5[0][0]']        \n",
            "                                                                                                  \n",
            " Conv3_5 (Conv2D)            (32, 28, 28, 32)             6176      ['ReLU2_5[0][0]']             \n",
            "                                                                                                  \n",
            " BatchNorm3_5 (BatchNormali  (32, 28, 28, 32)             128       ['Conv3_5[0][0]']             \n",
            " zation)                                                                                          \n",
            "                                                                                                  \n",
            " SkipConnection_5 (Add)      (32, 28, 28, 32)             0         ['BatchNorm3_5[0][0]',        \n",
            "                                                                     'BatchNorm3_4[0][0]']        \n",
            "                                                                                                  \n",
            " Conv1_6 (Conv2D)            (32, 14, 14, 384)            12672     ['SkipConnection_5[0][0]']    \n",
            "                                                                                                  \n",
            " BatchNorm1_6 (BatchNormali  (32, 14, 14, 384)            1536      ['Conv1_6[0][0]']             \n",
            " zation)                                                                                          \n",
            "                                                                                                  \n",
            " ReLU1_6 (Activation)        (32, 14, 14, 384)            0         ['BatchNorm1_6[0][0]']        \n",
            "                                                                                                  \n",
            " Conv2_6 (DepthwiseConv2D)   (32, 14, 14, 384)            3840      ['ReLU1_6[0][0]']             \n",
            "                                                                                                  \n",
            " BatchNorm2_6 (BatchNormali  (32, 14, 14, 384)            1536      ['Conv2_6[0][0]']             \n",
            " zation)                                                                                          \n",
            "                                                                                                  \n",
            " ReLU2_6 (Activation)        (32, 14, 14, 384)            0         ['BatchNorm2_6[0][0]']        \n",
            "                                                                                                  \n",
            " Conv3_6 (Conv2D)            (32, 14, 14, 64)             24640     ['ReLU2_6[0][0]']             \n",
            "                                                                                                  \n",
            " BatchNorm3_6 (BatchNormali  (32, 14, 14, 64)             256       ['Conv3_6[0][0]']             \n",
            " zation)                                                                                          \n",
            "                                                                                                  \n",
            " Conv1_7 (Conv2D)            (32, 14, 14, 384)            24960     ['BatchNorm3_6[0][0]']        \n",
            "                                                                                                  \n",
            " BatchNorm1_7 (BatchNormali  (32, 14, 14, 384)            1536      ['Conv1_7[0][0]']             \n",
            " zation)                                                                                          \n",
            "                                                                                                  \n",
            " ReLU1_7 (Activation)        (32, 14, 14, 384)            0         ['BatchNorm1_7[0][0]']        \n",
            "                                                                                                  \n",
            " Conv2_7 (DepthwiseConv2D)   (32, 14, 14, 384)            3840      ['ReLU1_7[0][0]']             \n",
            "                                                                                                  \n",
            " BatchNorm2_7 (BatchNormali  (32, 14, 14, 384)            1536      ['Conv2_7[0][0]']             \n",
            " zation)                                                                                          \n",
            "                                                                                                  \n",
            " ReLU2_7 (Activation)        (32, 14, 14, 384)            0         ['BatchNorm2_7[0][0]']        \n",
            "                                                                                                  \n",
            " Conv3_7 (Conv2D)            (32, 14, 14, 64)             24640     ['ReLU2_7[0][0]']             \n",
            "                                                                                                  \n",
            " BatchNorm3_7 (BatchNormali  (32, 14, 14, 64)             256       ['Conv3_7[0][0]']             \n",
            " zation)                                                                                          \n",
            "                                                                                                  \n",
            " SkipConnection_7 (Add)      (32, 14, 14, 64)             0         ['BatchNorm3_7[0][0]',        \n",
            "                                                                     'BatchNorm3_6[0][0]']        \n",
            "                                                                                                  \n",
            " Conv1_8 (Conv2D)            (32, 14, 14, 384)            24960     ['SkipConnection_7[0][0]']    \n",
            "                                                                                                  \n",
            " BatchNorm1_8 (BatchNormali  (32, 14, 14, 384)            1536      ['Conv1_8[0][0]']             \n",
            " zation)                                                                                          \n",
            "                                                                                                  \n",
            " ReLU1_8 (Activation)        (32, 14, 14, 384)            0         ['BatchNorm1_8[0][0]']        \n",
            "                                                                                                  \n",
            " Conv2_8 (DepthwiseConv2D)   (32, 14, 14, 384)            3840      ['ReLU1_8[0][0]']             \n",
            "                                                                                                  \n",
            " BatchNorm2_8 (BatchNormali  (32, 14, 14, 384)            1536      ['Conv2_8[0][0]']             \n",
            " zation)                                                                                          \n",
            "                                                                                                  \n",
            " ReLU2_8 (Activation)        (32, 14, 14, 384)            0         ['BatchNorm2_8[0][0]']        \n",
            "                                                                                                  \n",
            " Conv3_8 (Conv2D)            (32, 14, 14, 64)             24640     ['ReLU2_8[0][0]']             \n",
            "                                                                                                  \n",
            " BatchNorm3_8 (BatchNormali  (32, 14, 14, 64)             256       ['Conv3_8[0][0]']             \n",
            " zation)                                                                                          \n",
            "                                                                                                  \n",
            " SkipConnection_8 (Add)      (32, 14, 14, 64)             0         ['BatchNorm3_8[0][0]',        \n",
            "                                                                     'SkipConnection_7[0][0]']    \n",
            "                                                                                                  \n",
            " Conv1_9 (Conv2D)            (32, 14, 14, 384)            24960     ['SkipConnection_8[0][0]']    \n",
            "                                                                                                  \n",
            " BatchNorm1_9 (BatchNormali  (32, 14, 14, 384)            1536      ['Conv1_9[0][0]']             \n",
            " zation)                                                                                          \n",
            "                                                                                                  \n",
            " ReLU1_9 (Activation)        (32, 14, 14, 384)            0         ['BatchNorm1_9[0][0]']        \n",
            "                                                                                                  \n",
            " Conv2_9 (DepthwiseConv2D)   (32, 14, 14, 384)            3840      ['ReLU1_9[0][0]']             \n",
            "                                                                                                  \n",
            " BatchNorm2_9 (BatchNormali  (32, 14, 14, 384)            1536      ['Conv2_9[0][0]']             \n",
            " zation)                                                                                          \n",
            "                                                                                                  \n",
            " ReLU2_9 (Activation)        (32, 14, 14, 384)            0         ['BatchNorm2_9[0][0]']        \n",
            "                                                                                                  \n",
            " Conv3_9 (Conv2D)            (32, 14, 14, 64)             24640     ['ReLU2_9[0][0]']             \n",
            "                                                                                                  \n",
            " BatchNorm3_9 (BatchNormali  (32, 14, 14, 64)             256       ['Conv3_9[0][0]']             \n",
            " zation)                                                                                          \n",
            "                                                                                                  \n",
            " SkipConnection_9 (Add)      (32, 14, 14, 64)             0         ['BatchNorm3_9[0][0]',        \n",
            "                                                                     'SkipConnection_8[0][0]']    \n",
            "                                                                                                  \n",
            " Conv1_10 (Conv2D)           (32, 14, 14, 576)            37440     ['SkipConnection_9[0][0]']    \n",
            "                                                                                                  \n",
            " BatchNorm1_10 (BatchNormal  (32, 14, 14, 576)            2304      ['Conv1_10[0][0]']            \n",
            " ization)                                                                                         \n",
            "                                                                                                  \n",
            " ReLU1_10 (Activation)       (32, 14, 14, 576)            0         ['BatchNorm1_10[0][0]']       \n",
            "                                                                                                  \n",
            " Conv2_10 (DepthwiseConv2D)  (32, 14, 14, 576)            5760      ['ReLU1_10[0][0]']            \n",
            "                                                                                                  \n",
            " BatchNorm2_10 (BatchNormal  (32, 14, 14, 576)            2304      ['Conv2_10[0][0]']            \n",
            " ization)                                                                                         \n",
            "                                                                                                  \n",
            " ReLU2_10 (Activation)       (32, 14, 14, 576)            0         ['BatchNorm2_10[0][0]']       \n",
            "                                                                                                  \n",
            " Conv3_10 (Conv2D)           (32, 14, 14, 96)             55392     ['ReLU2_10[0][0]']            \n",
            "                                                                                                  \n",
            " BatchNorm3_10 (BatchNormal  (32, 14, 14, 96)             384       ['Conv3_10[0][0]']            \n",
            " ization)                                                                                         \n",
            "                                                                                                  \n",
            " Conv_Dim_10 (Conv2D)        (32, 14, 14, 96)             6240      ['SkipConnection_9[0][0]']    \n",
            "                                                                                                  \n",
            " SkipConnection_10 (Add)     (32, 14, 14, 96)             0         ['BatchNorm3_10[0][0]',       \n",
            "                                                                     'Conv_Dim_10[0][0]']         \n",
            "                                                                                                  \n",
            " Conv1_11 (Conv2D)           (32, 14, 14, 576)            55872     ['SkipConnection_10[0][0]']   \n",
            "                                                                                                  \n",
            " BatchNorm1_11 (BatchNormal  (32, 14, 14, 576)            2304      ['Conv1_11[0][0]']            \n",
            " ization)                                                                                         \n",
            "                                                                                                  \n",
            " ReLU1_11 (Activation)       (32, 14, 14, 576)            0         ['BatchNorm1_11[0][0]']       \n",
            "                                                                                                  \n",
            " Conv2_11 (DepthwiseConv2D)  (32, 14, 14, 576)            5760      ['ReLU1_11[0][0]']            \n",
            "                                                                                                  \n",
            " BatchNorm2_11 (BatchNormal  (32, 14, 14, 576)            2304      ['Conv2_11[0][0]']            \n",
            " ization)                                                                                         \n",
            "                                                                                                  \n",
            " ReLU2_11 (Activation)       (32, 14, 14, 576)            0         ['BatchNorm2_11[0][0]']       \n",
            "                                                                                                  \n",
            " Conv3_11 (Conv2D)           (32, 14, 14, 96)             55392     ['ReLU2_11[0][0]']            \n",
            "                                                                                                  \n",
            " BatchNorm3_11 (BatchNormal  (32, 14, 14, 96)             384       ['Conv3_11[0][0]']            \n",
            " ization)                                                                                         \n",
            "                                                                                                  \n",
            " SkipConnection_11 (Add)     (32, 14, 14, 96)             0         ['BatchNorm3_11[0][0]',       \n",
            "                                                                     'SkipConnection_10[0][0]']   \n",
            "                                                                                                  \n",
            " Conv1_12 (Conv2D)           (32, 14, 14, 576)            55872     ['SkipConnection_11[0][0]']   \n",
            "                                                                                                  \n",
            " BatchNorm1_12 (BatchNormal  (32, 14, 14, 576)            2304      ['Conv1_12[0][0]']            \n",
            " ization)                                                                                         \n",
            "                                                                                                  \n",
            " ReLU1_12 (Activation)       (32, 14, 14, 576)            0         ['BatchNorm1_12[0][0]']       \n",
            "                                                                                                  \n",
            " Conv2_12 (DepthwiseConv2D)  (32, 14, 14, 576)            5760      ['ReLU1_12[0][0]']            \n",
            "                                                                                                  \n",
            " BatchNorm2_12 (BatchNormal  (32, 14, 14, 576)            2304      ['Conv2_12[0][0]']            \n",
            " ization)                                                                                         \n",
            "                                                                                                  \n",
            " ReLU2_12 (Activation)       (32, 14, 14, 576)            0         ['BatchNorm2_12[0][0]']       \n",
            "                                                                                                  \n",
            " Conv3_12 (Conv2D)           (32, 14, 14, 96)             55392     ['ReLU2_12[0][0]']            \n",
            "                                                                                                  \n",
            " BatchNorm3_12 (BatchNormal  (32, 14, 14, 96)             384       ['Conv3_12[0][0]']            \n",
            " ization)                                                                                         \n",
            "                                                                                                  \n",
            " SkipConnection_12 (Add)     (32, 14, 14, 96)             0         ['BatchNorm3_12[0][0]',       \n",
            "                                                                     'SkipConnection_11[0][0]']   \n",
            "                                                                                                  \n",
            " Conv2 (Conv2D)              (32, 14, 14, 160)            15520     ['SkipConnection_12[0][0]']   \n",
            "                                                                                                  \n",
            " BatchNorm2 (BatchNormaliza  (32, 14, 14, 160)            640       ['Conv2[0][0]']               \n",
            " tion)                                                                                            \n",
            "                                                                                                  \n",
            " ReLU2 (Activation)          (32, 14, 14, 160)            0         ['BatchNorm2[0][0]']          \n",
            "                                                                                                  \n",
            " GlobalAvgPooling (GlobalAv  (32, 160)                    0         ['ReLU2[0][0]']               \n",
            " eragePooling2D)                                                                                  \n",
            "                                                                                                  \n",
            " Output (Dense)              (32, 5)                      805       ['GlobalAvgPooling[0][0]']    \n",
            "                                                                                                  \n",
            "==================================================================================================\n",
            "Total params: 642709 (2.45 MB)\n",
            "Trainable params: 624853 (2.38 MB)\n",
            "Non-trainable params: 17856 (69.75 KB)\n",
            "__________________________________________________________________________________________________\n"
          ]
        }
      ]
    },
    {
      "cell_type": "markdown",
      "source": [
        "### Model Compiling"
      ],
      "metadata": {
        "id": "o_YU_YxIMLRa"
      }
    },
    {
      "cell_type": "code",
      "source": [
        "mnet.compile(loss=SparseCategoricalCrossentropy(),\n",
        "             optimizer=Adam(),\n",
        "             metrics=[\"accuracy\"])"
      ],
      "metadata": {
        "id": "yVGjy1USMLRl"
      },
      "execution_count": null,
      "outputs": []
    },
    {
      "cell_type": "markdown",
      "source": [
        "### Model Training\n"
      ],
      "metadata": {
        "id": "dMJw8ifMMN1K"
      }
    },
    {
      "cell_type": "markdown",
      "source": [
        "#### Callbacks"
      ],
      "metadata": {
        "id": "V9qYKmu4MN1g"
      }
    },
    {
      "cell_type": "code",
      "source": [
        "lr_scheduler = tf.keras.callbacks.LearningRateScheduler(scheduler)\n",
        "mnet_csv_logger = CSVLogger(\"/content/model_results/mobilenet.log\")"
      ],
      "metadata": {
        "id": "sl3ahlmTMN1h"
      },
      "execution_count": null,
      "outputs": []
    },
    {
      "cell_type": "markdown",
      "source": [
        "#### Training"
      ],
      "metadata": {
        "id": "MRHwfDOfMN1h"
      }
    },
    {
      "cell_type": "code",
      "source": [
        "mobilenet_history = mnet.fit(train_ds,\n",
        "                             epochs=50,\n",
        "                             steps_per_epoch=len(train_ds),\n",
        "                             validation_data=val_ds,\n",
        "                             validation_steps=len(val_ds),\n",
        "                             class_weight=class_weights,\n",
        "                             callbacks=[lr_scheduler, mnet_csv_logger])"
      ],
      "metadata": {
        "colab": {
          "base_uri": "https://localhost:8080/"
        },
        "outputId": "42732be0-a643-4199-f790-1ea48a0fafcf",
        "id": "yIOYNUt8MN1h"
      },
      "execution_count": null,
      "outputs": [
        {
          "output_type": "stream",
          "name": "stdout",
          "text": [
            "Epoch 1/50\n",
            "59/59 [==============================] - 39s 218ms/step - loss: 0.9501 - accuracy: 0.6224 - val_loss: 1.4677 - val_accuracy: 0.4831 - lr: 0.0010\n",
            "Epoch 2/50\n",
            "59/59 [==============================] - 15s 231ms/step - loss: 0.5929 - accuracy: 0.7791 - val_loss: 1.5491 - val_accuracy: 0.4831 - lr: 0.0010\n",
            "Epoch 3/50\n",
            "59/59 [==============================] - 15s 233ms/step - loss: 0.4404 - accuracy: 0.8374 - val_loss: 1.7257 - val_accuracy: 0.4831 - lr: 0.0010\n",
            "Epoch 4/50\n",
            "59/59 [==============================] - 15s 232ms/step - loss: 0.3623 - accuracy: 0.8612 - val_loss: 1.8691 - val_accuracy: 0.4831 - lr: 0.0010\n",
            "Epoch 5/50\n",
            "59/59 [==============================] - 16s 234ms/step - loss: 0.3184 - accuracy: 0.8745 - val_loss: 1.8954 - val_accuracy: 0.4831 - lr: 0.0010\n",
            "Epoch 6/50\n",
            "59/59 [==============================] - 15s 230ms/step - loss: 0.2975 - accuracy: 0.8845 - val_loss: 1.6327 - val_accuracy: 0.4831 - lr: 0.0010\n",
            "Epoch 7/50\n",
            "59/59 [==============================] - 15s 231ms/step - loss: 0.2136 - accuracy: 0.9211 - val_loss: 1.6357 - val_accuracy: 0.4831 - lr: 0.0010\n",
            "Epoch 8/50\n",
            "59/59 [==============================] - 15s 233ms/step - loss: 0.2439 - accuracy: 0.8994 - val_loss: 1.7071 - val_accuracy: 0.2055 - lr: 0.0010\n",
            "Epoch 9/50\n",
            "59/59 [==============================] - 15s 234ms/step - loss: 0.2016 - accuracy: 0.9211 - val_loss: 1.2009 - val_accuracy: 0.5381 - lr: 0.0010\n",
            "Epoch 10/50\n",
            "59/59 [==============================] - 15s 234ms/step - loss: 0.1677 - accuracy: 0.9322 - val_loss: 0.7491 - val_accuracy: 0.7436 - lr: 0.0010\n",
            "Epoch 11/50\n",
            "59/59 [==============================] - 15s 228ms/step - loss: 0.1614 - accuracy: 0.9317 - val_loss: 0.6730 - val_accuracy: 0.7691 - lr: 9.5123e-04\n",
            "Epoch 12/50\n",
            "59/59 [==============================] - 15s 228ms/step - loss: 0.1379 - accuracy: 0.9454 - val_loss: 0.4216 - val_accuracy: 0.8602 - lr: 9.0484e-04\n",
            "Epoch 13/50\n",
            "59/59 [==============================] - 15s 232ms/step - loss: 0.1118 - accuracy: 0.9539 - val_loss: 0.3400 - val_accuracy: 0.9153 - lr: 8.6071e-04\n",
            "Epoch 14/50\n",
            "59/59 [==============================] - 15s 233ms/step - loss: 0.0823 - accuracy: 0.9677 - val_loss: 0.2885 - val_accuracy: 0.9195 - lr: 8.1873e-04\n",
            "Epoch 15/50\n",
            "59/59 [==============================] - 15s 231ms/step - loss: 0.0981 - accuracy: 0.9613 - val_loss: 0.2528 - val_accuracy: 0.9280 - lr: 7.7880e-04\n",
            "Epoch 16/50\n",
            "59/59 [==============================] - 16s 233ms/step - loss: 0.1168 - accuracy: 0.9613 - val_loss: 0.5925 - val_accuracy: 0.8411 - lr: 7.4082e-04\n",
            "Epoch 17/50\n",
            "59/59 [==============================] - 15s 231ms/step - loss: 0.1014 - accuracy: 0.9555 - val_loss: 0.6162 - val_accuracy: 0.8347 - lr: 7.0469e-04\n",
            "Epoch 18/50\n",
            "59/59 [==============================] - 15s 229ms/step - loss: 0.0674 - accuracy: 0.9703 - val_loss: 0.5462 - val_accuracy: 0.8475 - lr: 6.7032e-04\n",
            "Epoch 19/50\n",
            "59/59 [==============================] - 15s 230ms/step - loss: 0.0611 - accuracy: 0.9767 - val_loss: 0.2466 - val_accuracy: 0.9237 - lr: 6.3763e-04\n",
            "Epoch 20/50\n",
            "59/59 [==============================] - 15s 230ms/step - loss: 0.0466 - accuracy: 0.9820 - val_loss: 0.3430 - val_accuracy: 0.8962 - lr: 6.0653e-04\n",
            "Epoch 21/50\n",
            "59/59 [==============================] - 15s 231ms/step - loss: 0.0416 - accuracy: 0.9857 - val_loss: 0.3026 - val_accuracy: 0.9174 - lr: 5.7695e-04\n",
            "Epoch 22/50\n",
            "59/59 [==============================] - 16s 233ms/step - loss: 0.0399 - accuracy: 0.9862 - val_loss: 0.2202 - val_accuracy: 0.9407 - lr: 5.4881e-04\n",
            "Epoch 23/50\n",
            "59/59 [==============================] - 15s 233ms/step - loss: 0.0369 - accuracy: 0.9862 - val_loss: 0.3388 - val_accuracy: 0.8941 - lr: 5.2205e-04\n",
            "Epoch 24/50\n",
            "59/59 [==============================] - 15s 234ms/step - loss: 0.0384 - accuracy: 0.9820 - val_loss: 0.2874 - val_accuracy: 0.9174 - lr: 4.9659e-04\n",
            "Epoch 25/50\n",
            "59/59 [==============================] - 15s 231ms/step - loss: 0.0248 - accuracy: 0.9910 - val_loss: 0.3343 - val_accuracy: 0.9131 - lr: 4.7237e-04\n",
            "Epoch 26/50\n",
            "59/59 [==============================] - 15s 229ms/step - loss: 0.0239 - accuracy: 0.9931 - val_loss: 0.2541 - val_accuracy: 0.9386 - lr: 4.4933e-04\n",
            "Epoch 27/50\n",
            "59/59 [==============================] - 15s 232ms/step - loss: 0.0196 - accuracy: 0.9926 - val_loss: 0.2658 - val_accuracy: 0.9322 - lr: 4.2742e-04\n",
            "Epoch 28/50\n",
            "59/59 [==============================] - 15s 229ms/step - loss: 0.0252 - accuracy: 0.9926 - val_loss: 0.4147 - val_accuracy: 0.9047 - lr: 4.0657e-04\n",
            "Epoch 29/50\n",
            "59/59 [==============================] - 15s 231ms/step - loss: 0.0242 - accuracy: 0.9894 - val_loss: 0.2660 - val_accuracy: 0.9301 - lr: 3.8674e-04\n",
            "Epoch 30/50\n",
            "59/59 [==============================] - 15s 230ms/step - loss: 0.0246 - accuracy: 0.9942 - val_loss: 0.3686 - val_accuracy: 0.9004 - lr: 3.6788e-04\n",
            "Epoch 31/50\n",
            "59/59 [==============================] - 15s 230ms/step - loss: 0.0240 - accuracy: 0.9899 - val_loss: 0.3111 - val_accuracy: 0.9216 - lr: 3.4994e-04\n",
            "Epoch 32/50\n",
            "59/59 [==============================] - 15s 230ms/step - loss: 0.0171 - accuracy: 0.9958 - val_loss: 0.3252 - val_accuracy: 0.9280 - lr: 3.3287e-04\n",
            "Epoch 33/50\n",
            "59/59 [==============================] - 15s 233ms/step - loss: 0.0140 - accuracy: 0.9974 - val_loss: 0.3068 - val_accuracy: 0.9258 - lr: 3.1664e-04\n",
            "Epoch 34/50\n",
            "59/59 [==============================] - 15s 228ms/step - loss: 0.0143 - accuracy: 0.9963 - val_loss: 0.2694 - val_accuracy: 0.9322 - lr: 3.0119e-04\n",
            "Epoch 35/50\n",
            "59/59 [==============================] - 15s 231ms/step - loss: 0.0200 - accuracy: 0.9936 - val_loss: 0.2439 - val_accuracy: 0.9386 - lr: 2.8651e-04\n",
            "Epoch 36/50\n",
            "59/59 [==============================] - 15s 230ms/step - loss: 0.0160 - accuracy: 0.9926 - val_loss: 0.2940 - val_accuracy: 0.9237 - lr: 2.7253e-04\n",
            "Epoch 37/50\n",
            "59/59 [==============================] - 15s 230ms/step - loss: 0.0113 - accuracy: 0.9968 - val_loss: 0.2658 - val_accuracy: 0.9237 - lr: 2.5924e-04\n",
            "Epoch 38/50\n",
            "59/59 [==============================] - 15s 229ms/step - loss: 0.0116 - accuracy: 0.9963 - val_loss: 0.2979 - val_accuracy: 0.9343 - lr: 2.4660e-04\n",
            "Epoch 39/50\n",
            "59/59 [==============================] - 15s 230ms/step - loss: 0.0153 - accuracy: 0.9942 - val_loss: 0.5033 - val_accuracy: 0.8983 - lr: 2.3457e-04\n",
            "Epoch 40/50\n",
            "59/59 [==============================] - 15s 227ms/step - loss: 0.0087 - accuracy: 0.9979 - val_loss: 0.2448 - val_accuracy: 0.9449 - lr: 2.2313e-04\n",
            "Epoch 41/50\n",
            "59/59 [==============================] - 15s 231ms/step - loss: 0.0066 - accuracy: 0.9989 - val_loss: 0.2517 - val_accuracy: 0.9470 - lr: 2.1225e-04\n",
            "Epoch 42/50\n",
            "59/59 [==============================] - 15s 226ms/step - loss: 0.0115 - accuracy: 0.9952 - val_loss: 0.2888 - val_accuracy: 0.9301 - lr: 2.0190e-04\n",
            "Epoch 43/50\n",
            "59/59 [==============================] - 15s 228ms/step - loss: 0.0077 - accuracy: 0.9979 - val_loss: 0.2384 - val_accuracy: 0.9449 - lr: 1.9205e-04\n",
            "Epoch 44/50\n",
            "59/59 [==============================] - 15s 228ms/step - loss: 0.0070 - accuracy: 0.9989 - val_loss: 0.2522 - val_accuracy: 0.9386 - lr: 1.8268e-04\n",
            "Epoch 45/50\n",
            "59/59 [==============================] - 15s 227ms/step - loss: 0.0054 - accuracy: 0.9995 - val_loss: 0.2597 - val_accuracy: 0.9322 - lr: 1.7377e-04\n",
            "Epoch 46/50\n",
            "59/59 [==============================] - 15s 227ms/step - loss: 0.0045 - accuracy: 0.9989 - val_loss: 0.2710 - val_accuracy: 0.9386 - lr: 1.6530e-04\n",
            "Epoch 47/50\n",
            "59/59 [==============================] - 15s 229ms/step - loss: 0.0048 - accuracy: 1.0000 - val_loss: 0.2895 - val_accuracy: 0.9301 - lr: 1.5724e-04\n",
            "Epoch 48/50\n",
            "59/59 [==============================] - 15s 230ms/step - loss: 0.0102 - accuracy: 0.9974 - val_loss: 0.2667 - val_accuracy: 0.9407 - lr: 1.4957e-04\n",
            "Epoch 49/50\n",
            "59/59 [==============================] - 15s 229ms/step - loss: 0.0053 - accuracy: 0.9989 - val_loss: 0.2748 - val_accuracy: 0.9322 - lr: 1.4227e-04\n",
            "Epoch 50/50\n",
            "59/59 [==============================] - 15s 230ms/step - loss: 0.0063 - accuracy: 0.9995 - val_loss: 0.2737 - val_accuracy: 0.9343 - lr: 1.3534e-04\n"
          ]
        }
      ]
    },
    {
      "cell_type": "markdown",
      "source": [
        "### Visualisations"
      ],
      "metadata": {
        "id": "D7l1vbL2MSkB"
      }
    },
    {
      "cell_type": "code",
      "source": [
        "history_mobilenet = pd.read_csv(\"/content/model_results/mobilenet.log\")\n",
        "plot_history(history_mobilenet)"
      ],
      "metadata": {
        "colab": {
          "base_uri": "https://localhost:8080/"
        },
        "id": "afpVwRt1MUPs",
        "outputId": "0aa4fc95-c576-416f-cf40-eb639528ba72"
      },
      "execution_count": null,
      "outputs": [
        {
          "output_type": "display_data",
          "data": {
            "text/plain": [
              "<Figure size 1200x600 with 2 Axes>"
            ],
            "image/png": "[encoded data removed]"
          },
          "metadata": {}
        }
      ]
    },
    {
      "cell_type": "markdown",
      "source": [
        "# Transfer Learning"
      ],
      "metadata": {
        "id": "qJ44QgQLMcZ-"
      }
    },
    {
      "cell_type": "markdown",
      "source": [
        "## Models"
      ],
      "metadata": {
        "id": "bYrk5wiw02VC"
      }
    },
    {
      "cell_type": "markdown",
      "source": [
        "### VGG 19"
      ],
      "metadata": {
        "id": "pXhWHUPw04B3"
      }
    },
    {
      "cell_type": "code",
      "source": [
        "vgg_19 = Sequential([\n",
        "    Lambda(vgg_preproccessing,\n",
        "           input_shape=INPUT_SHAPE),\n",
        "\n",
        "    VGG19(include_top=False,\n",
        "          weights=\"imagenet\",\n",
        "          pooling=\"max\",\n",
        "          input_shape=INPUT_SHAPE),\n",
        "\n",
        "    Dense(units=5,\n",
        "          activation=\"softmax\")\n",
        "])\n",
        "\n",
        "vgg_19.layers[1].trainable = False\n",
        "\n",
        "vgg_19.summary()"
      ],
      "metadata": {
        "colab": {
          "base_uri": "https://localhost:8080/"
        },
        "id": "p16Uf9jZ05tI",
        "outputId": "2d864451-6631-4670-dd08-ce87ee28bd52"
      },
      "execution_count": null,
      "outputs": [
        {
          "output_type": "stream",
          "name": "stdout",
          "text": [
            "Downloading data from https://storage.googleapis.com/tensorflow/keras-applications/vgg19/vgg19_weights_tf_dim_ordering_tf_kernels_notop.h5\n",
            "80134624/80134624 [==============================] - 3s 0us/step\n",
            "Model: \"sequential\"\n",
            "_________________________________________________________________\n",
            " Layer (type)                Output Shape              Param #   \n",
            "=================================================================\n",
            " lambda (Lambda)             (None, 224, 224, 3)       0         \n",
            "                                                                 \n",
            " vgg19 (Functional)          (None, 512)               20024384  \n",
            "                                                                 \n",
            " dense (Dense)               (None, 5)                 2565      \n",
            "                                                                 \n",
            "=================================================================\n",
            "Total params: 20026949 (76.40 MB)\n",
            "Trainable params: 2565 (10.02 KB)\n",
            "Non-trainable params: 20024384 (76.39 MB)\n",
            "_________________________________________________________________\n"
          ]
        }
      ]
    },
    {
      "cell_type": "code",
      "source": [
        "vgg_19.compile(optimizer=Adam(),\n",
        "               loss=SparseCategoricalCrossentropy(),\n",
        "               metrics=[\"accuracy\"])\n",
        "\n",
        "vgg_19_csv_logger = CSVLogger(\"/content/transfer/vgg_19.log\")\n",
        "\n",
        "hist_vgg_19 = vgg_19.fit(train_ds,\n",
        "                         epochs=25,\n",
        "                         steps_per_epoch=len(train_ds),\n",
        "                         validation_data=val_ds,\n",
        "                         validation_steps=len(val_ds),\n",
        "                         callbacks=[vgg_19_csv_logger])"
      ],
      "metadata": {
        "colab": {
          "base_uri": "https://localhost:8080/"
        },
        "id": "IX9OzqUm1AmJ",
        "outputId": "d113a908-10af-4cd1-cbd8-8c4e934753d0"
      },
      "execution_count": null,
      "outputs": [
        {
          "output_type": "stream",
          "name": "stdout",
          "text": [
            "Epoch 1/25\n",
            "59/59 [==============================] - 20s 257ms/step - loss: 14.7184 - accuracy: 0.4211 - val_loss: 6.7976 - val_accuracy: 0.5763\n",
            "Epoch 2/25\n",
            "59/59 [==============================] - 15s 227ms/step - loss: 4.6284 - accuracy: 0.6621 - val_loss: 3.7949 - val_accuracy: 0.7225\n",
            "Epoch 3/25\n",
            "59/59 [==============================] - 15s 226ms/step - loss: 2.7140 - accuracy: 0.7680 - val_loss: 2.9234 - val_accuracy: 0.7648\n",
            "Epoch 4/25\n",
            "59/59 [==============================] - 15s 224ms/step - loss: 1.8305 - accuracy: 0.8189 - val_loss: 2.5542 - val_accuracy: 0.8008\n",
            "Epoch 5/25\n",
            "59/59 [==============================] - 15s 224ms/step - loss: 1.2888 - accuracy: 0.8575 - val_loss: 2.6745 - val_accuracy: 0.7839\n",
            "Epoch 6/25\n",
            "59/59 [==============================] - 15s 225ms/step - loss: 0.9967 - accuracy: 0.8808 - val_loss: 2.1050 - val_accuracy: 0.8136\n",
            "Epoch 7/25\n",
            "59/59 [==============================] - 15s 228ms/step - loss: 0.7228 - accuracy: 0.9078 - val_loss: 1.7945 - val_accuracy: 0.8284\n",
            "Epoch 8/25\n",
            "59/59 [==============================] - 15s 229ms/step - loss: 0.5468 - accuracy: 0.9237 - val_loss: 1.7960 - val_accuracy: 0.8390\n",
            "Epoch 9/25\n",
            "59/59 [==============================] - 15s 229ms/step - loss: 0.4261 - accuracy: 0.9396 - val_loss: 1.7799 - val_accuracy: 0.8538\n",
            "Epoch 10/25\n",
            "59/59 [==============================] - 15s 226ms/step - loss: 0.3791 - accuracy: 0.9354 - val_loss: 1.7185 - val_accuracy: 0.8411\n",
            "Epoch 11/25\n",
            "59/59 [==============================] - 15s 227ms/step - loss: 0.2842 - accuracy: 0.9507 - val_loss: 1.7756 - val_accuracy: 0.8411\n",
            "Epoch 12/25\n",
            "59/59 [==============================] - 15s 226ms/step - loss: 0.2255 - accuracy: 0.9640 - val_loss: 1.5597 - val_accuracy: 0.8517\n",
            "Epoch 13/25\n",
            "59/59 [==============================] - 15s 224ms/step - loss: 0.1782 - accuracy: 0.9688 - val_loss: 1.4293 - val_accuracy: 0.8602\n",
            "Epoch 14/25\n",
            "59/59 [==============================] - 15s 225ms/step - loss: 0.1533 - accuracy: 0.9730 - val_loss: 1.4738 - val_accuracy: 0.8538\n",
            "Epoch 15/25\n",
            "59/59 [==============================] - 15s 228ms/step - loss: 0.1039 - accuracy: 0.9783 - val_loss: 1.5347 - val_accuracy: 0.8496\n",
            "Epoch 16/25\n",
            "59/59 [==============================] - 15s 226ms/step - loss: 0.0738 - accuracy: 0.9841 - val_loss: 1.5890 - val_accuracy: 0.8559\n",
            "Epoch 17/25\n",
            "59/59 [==============================] - 15s 225ms/step - loss: 0.0602 - accuracy: 0.9831 - val_loss: 1.5275 - val_accuracy: 0.8623\n",
            "Epoch 18/25\n",
            "59/59 [==============================] - 15s 225ms/step - loss: 0.0440 - accuracy: 0.9857 - val_loss: 1.4938 - val_accuracy: 0.8538\n",
            "Epoch 19/25\n",
            "59/59 [==============================] - 15s 226ms/step - loss: 0.0288 - accuracy: 0.9915 - val_loss: 1.4624 - val_accuracy: 0.8581\n",
            "Epoch 20/25\n",
            "59/59 [==============================] - 15s 224ms/step - loss: 0.0210 - accuracy: 0.9926 - val_loss: 1.4044 - val_accuracy: 0.8686\n",
            "Epoch 21/25\n",
            "59/59 [==============================] - 15s 225ms/step - loss: 0.0173 - accuracy: 0.9968 - val_loss: 1.4013 - val_accuracy: 0.8686\n",
            "Epoch 22/25\n",
            "59/59 [==============================] - 15s 222ms/step - loss: 0.0179 - accuracy: 0.9931 - val_loss: 1.4455 - val_accuracy: 0.8708\n",
            "Epoch 23/25\n",
            "59/59 [==============================] - 15s 226ms/step - loss: 0.0102 - accuracy: 0.9974 - val_loss: 1.4131 - val_accuracy: 0.8644\n",
            "Epoch 24/25\n",
            "59/59 [==============================] - 15s 227ms/step - loss: 0.0069 - accuracy: 0.9995 - val_loss: 1.4393 - val_accuracy: 0.8623\n",
            "Epoch 25/25\n",
            "59/59 [==============================] - 15s 225ms/step - loss: 0.0043 - accuracy: 1.0000 - val_loss: 1.4395 - val_accuracy: 0.8665\n"
          ]
        }
      ]
    },
    {
      "cell_type": "markdown",
      "source": [
        "### ResNet50 V2"
      ],
      "metadata": {
        "id": "vWUrdUCq1Yz7"
      }
    },
    {
      "cell_type": "code",
      "source": [
        "res50_v2 = Sequential([\n",
        "    Lambda(resnet_v2_preproccessing,\n",
        "           input_shape=INPUT_SHAPE),\n",
        "\n",
        "    ResNet50V2(include_top=False,\n",
        "               pooling=\"avg\",\n",
        "               weights=\"imagenet\",\n",
        "               input_shape=INPUT_SHAPE),\n",
        "\n",
        "    Dense(units=5,\n",
        "          activation=\"softmax\")\n",
        "])\n",
        "\n",
        "res50_v2.layers[1].trainable = False\n",
        "\n",
        "res50_v2.summary()"
      ],
      "metadata": {
        "colab": {
          "base_uri": "https://localhost:8080/"
        },
        "id": "y2DINHDz1ayp",
        "outputId": "29ddbf14-b025-4cc6-8385-ebbffc86199f"
      },
      "execution_count": null,
      "outputs": [
        {
          "output_type": "stream",
          "name": "stdout",
          "text": [
            "Downloading data from https://storage.googleapis.com/tensorflow/keras-applications/resnet/resnet50v2_weights_tf_dim_ordering_tf_kernels_notop.h5\n",
            "94668760/94668760 [==============================] - 3s 0us/step\n",
            "Model: \"sequential_1\"\n",
            "_________________________________________________________________\n",
            " Layer (type)                Output Shape              Param #   \n",
            "=================================================================\n",
            " lambda_1 (Lambda)           (None, 224, 224, 3)       0         \n",
            "                                                                 \n",
            " resnet50v2 (Functional)     (None, 2048)              23564800  \n",
            "                                                                 \n",
            " dense_1 (Dense)             (None, 5)                 10245     \n",
            "                                                                 \n",
            "=================================================================\n",
            "Total params: 23575045 (89.93 MB)\n",
            "Trainable params: 10245 (40.02 KB)\n",
            "Non-trainable params: 23564800 (89.89 MB)\n",
            "_________________________________________________________________\n"
          ]
        }
      ]
    },
    {
      "cell_type": "code",
      "source": [
        "res50_v2.compile(optimizer=Adam(),\n",
        "                           loss=SparseCategoricalCrossentropy(),\n",
        "                           metrics=[\"accuracy\"])\n",
        "\n",
        "res50_v2_csv_logger = CSVLogger(\"/content/transfer/res50_v2.log\")\n",
        "\n",
        "hist_res50_v2 = res50_v2.fit(train_ds,\n",
        "                             epochs=25,\n",
        "                             steps_per_epoch=len(train_ds),\n",
        "                             validation_data=val_ds,\n",
        "                             validation_steps=len(val_ds),\n",
        "                             callbacks=[res50_v2_csv_logger])"
      ],
      "metadata": {
        "colab": {
          "base_uri": "https://localhost:8080/"
        },
        "id": "VOzu1H_21gKN",
        "outputId": "91aab129-2120-403f-eef0-9cfea9f56d4b"
      },
      "execution_count": null,
      "outputs": [
        {
          "output_type": "stream",
          "name": "stdout",
          "text": [
            "Epoch 1/25\n",
            "59/59 [==============================] - 20s 242ms/step - loss: 0.7613 - accuracy: 0.7251 - val_loss: 0.4267 - val_accuracy: 0.8644\n",
            "Epoch 2/25\n",
            "59/59 [==============================] - 15s 222ms/step - loss: 0.3167 - accuracy: 0.8946 - val_loss: 0.3338 - val_accuracy: 0.8941\n",
            "Epoch 3/25\n",
            "59/59 [==============================] - 15s 222ms/step - loss: 0.2257 - accuracy: 0.9370 - val_loss: 0.3115 - val_accuracy: 0.8983\n",
            "Epoch 4/25\n",
            "59/59 [==============================] - 15s 223ms/step - loss: 0.1759 - accuracy: 0.9587 - val_loss: 0.2674 - val_accuracy: 0.9153\n",
            "Epoch 5/25\n",
            "59/59 [==============================] - 15s 218ms/step - loss: 0.1429 - accuracy: 0.9703 - val_loss: 0.2635 - val_accuracy: 0.9195\n",
            "Epoch 6/25\n",
            "59/59 [==============================] - 15s 223ms/step - loss: 0.1219 - accuracy: 0.9751 - val_loss: 0.2488 - val_accuracy: 0.9195\n",
            "Epoch 7/25\n",
            "59/59 [==============================] - 14s 219ms/step - loss: 0.1040 - accuracy: 0.9820 - val_loss: 0.2399 - val_accuracy: 0.9237\n",
            "Epoch 8/25\n",
            "59/59 [==============================] - 14s 220ms/step - loss: 0.0909 - accuracy: 0.9846 - val_loss: 0.2299 - val_accuracy: 0.9258\n",
            "Epoch 9/25\n",
            "59/59 [==============================] - 14s 220ms/step - loss: 0.0792 - accuracy: 0.9878 - val_loss: 0.2237 - val_accuracy: 0.9258\n",
            "Epoch 10/25\n",
            "59/59 [==============================] - 15s 223ms/step - loss: 0.0712 - accuracy: 0.9905 - val_loss: 0.2269 - val_accuracy: 0.9258\n",
            "Epoch 11/25\n",
            "59/59 [==============================] - 15s 226ms/step - loss: 0.0636 - accuracy: 0.9926 - val_loss: 0.2201 - val_accuracy: 0.9280\n",
            "Epoch 12/25\n",
            "59/59 [==============================] - 15s 224ms/step - loss: 0.0565 - accuracy: 0.9947 - val_loss: 0.2177 - val_accuracy: 0.9280\n",
            "Epoch 13/25\n",
            "59/59 [==============================] - 15s 223ms/step - loss: 0.0520 - accuracy: 0.9947 - val_loss: 0.2140 - val_accuracy: 0.9280\n",
            "Epoch 14/25\n",
            "59/59 [==============================] - 15s 223ms/step - loss: 0.0474 - accuracy: 0.9952 - val_loss: 0.2118 - val_accuracy: 0.9301\n",
            "Epoch 15/25\n",
            "59/59 [==============================] - 15s 221ms/step - loss: 0.0426 - accuracy: 0.9958 - val_loss: 0.2158 - val_accuracy: 0.9301\n",
            "Epoch 16/25\n",
            "59/59 [==============================] - 15s 225ms/step - loss: 0.0389 - accuracy: 0.9968 - val_loss: 0.2122 - val_accuracy: 0.9343\n",
            "Epoch 17/25\n",
            "59/59 [==============================] - 15s 224ms/step - loss: 0.0360 - accuracy: 0.9968 - val_loss: 0.2106 - val_accuracy: 0.9364\n",
            "Epoch 18/25\n",
            "59/59 [==============================] - 15s 224ms/step - loss: 0.0330 - accuracy: 0.9979 - val_loss: 0.2093 - val_accuracy: 0.9343\n",
            "Epoch 19/25\n",
            "59/59 [==============================] - 15s 225ms/step - loss: 0.0308 - accuracy: 0.9984 - val_loss: 0.2110 - val_accuracy: 0.9364\n",
            "Epoch 20/25\n",
            "59/59 [==============================] - 15s 222ms/step - loss: 0.0281 - accuracy: 0.9989 - val_loss: 0.2090 - val_accuracy: 0.9386\n",
            "Epoch 21/25\n",
            "59/59 [==============================] - 15s 222ms/step - loss: 0.0262 - accuracy: 0.9984 - val_loss: 0.2118 - val_accuracy: 0.9343\n",
            "Epoch 22/25\n",
            "59/59 [==============================] - 15s 223ms/step - loss: 0.0246 - accuracy: 0.9995 - val_loss: 0.2078 - val_accuracy: 0.9386\n",
            "Epoch 23/25\n",
            "59/59 [==============================] - 15s 222ms/step - loss: 0.0225 - accuracy: 0.9995 - val_loss: 0.2082 - val_accuracy: 0.9407\n",
            "Epoch 24/25\n",
            "59/59 [==============================] - 15s 224ms/step - loss: 0.0219 - accuracy: 0.9995 - val_loss: 0.2066 - val_accuracy: 0.9407\n",
            "Epoch 25/25\n",
            "59/59 [==============================] - 15s 223ms/step - loss: 0.0199 - accuracy: 0.9995 - val_loss: 0.2095 - val_accuracy: 0.9386\n"
          ]
        }
      ]
    },
    {
      "cell_type": "markdown",
      "source": [
        "### MobileNet V2"
      ],
      "metadata": {
        "id": "2uyCzqoy1-uK"
      }
    },
    {
      "cell_type": "code",
      "source": [
        "mobilenet_v2 = Sequential([\n",
        "    Lambda(mobilenet_preprocessing,\n",
        "           input_shape=INPUT_SHAPE),\n",
        "\n",
        "    MobileNetV2(include_top=False,\n",
        "                pooling=\"avg\",\n",
        "                weights=\"imagenet\",\n",
        "                input_shape=INPUT_SHAPE),\n",
        "\n",
        "    Dense(units=5,\n",
        "          activation=\"softmax\")\n",
        "])\n",
        "\n",
        "mobilenet_v2.layers[1].trainable = False\n",
        "\n",
        "mobilenet_v2.summary()"
      ],
      "metadata": {
        "colab": {
          "base_uri": "https://localhost:8080/"
        },
        "id": "6byyrFRJ2CU8",
        "outputId": "54497c1f-b997-45f5-cc00-d7bea8ae4b3f"
      },
      "execution_count": null,
      "outputs": [
        {
          "output_type": "stream",
          "name": "stdout",
          "text": [
            "Downloading data from https://storage.googleapis.com/tensorflow/keras-applications/mobilenet_v2/mobilenet_v2_weights_tf_dim_ordering_tf_kernels_1.0_224_no_top.h5\n",
            "9406464/9406464 [==============================] - 1s 0us/step\n",
            "Model: \"sequential_2\"\n",
            "_________________________________________________________________\n",
            " Layer (type)                Output Shape              Param #   \n",
            "=================================================================\n",
            " lambda_2 (Lambda)           (None, 224, 224, 3)       0         \n",
            "                                                                 \n",
            " mobilenetv2_1.00_224 (Func  (None, 1280)              2257984   \n",
            " tional)                                                         \n",
            "                                                                 \n",
            " dense_2 (Dense)             (None, 5)                 6405      \n",
            "                                                                 \n",
            "=================================================================\n",
            "Total params: 2264389 (8.64 MB)\n",
            "Trainable params: 6405 (25.02 KB)\n",
            "Non-trainable params: 2257984 (8.61 MB)\n",
            "_________________________________________________________________\n"
          ]
        }
      ]
    },
    {
      "cell_type": "code",
      "source": [
        "mobilenet_v2.compile(optimizer=Adam(),\n",
        "                     loss=SparseCategoricalCrossentropy(),\n",
        "                     metrics=[\"accuracy\"])\n",
        "\n",
        "mobilenet_v2_csv_logger = CSVLogger(\"/content/transfer/mobilenet_v2.log\")\n",
        "\n",
        "hist_mobilenet_v2 = mobilenet_v2.fit(train_ds,\n",
        "                                     epochs=25,\n",
        "                                     steps_per_epoch=len(train_ds),\n",
        "                                     validation_data=val_ds,\n",
        "                                     validation_steps=len(val_ds),\n",
        "                                     callbacks=[mobilenet_v2_csv_logger])"
      ],
      "metadata": {
        "colab": {
          "base_uri": "https://localhost:8080/"
        },
        "id": "W2-zsHYJ2L4N",
        "outputId": "d6d5fdf0-4bd7-4253-aeea-d0ce2f63ea74"
      },
      "execution_count": null,
      "outputs": [
        {
          "output_type": "stream",
          "name": "stdout",
          "text": [
            "Epoch 1/25\n",
            "59/59 [==============================] - 18s 230ms/step - loss: 0.7765 - accuracy: 0.7177 - val_loss: 0.4514 - val_accuracy: 0.8644\n",
            "Epoch 2/25\n",
            "59/59 [==============================] - 15s 221ms/step - loss: 0.3352 - accuracy: 0.9089 - val_loss: 0.3418 - val_accuracy: 0.8962\n",
            "Epoch 3/25\n",
            "59/59 [==============================] - 15s 220ms/step - loss: 0.2567 - accuracy: 0.9296 - val_loss: 0.3082 - val_accuracy: 0.9047\n",
            "Epoch 4/25\n",
            "59/59 [==============================] - 14s 220ms/step - loss: 0.2052 - accuracy: 0.9481 - val_loss: 0.2732 - val_accuracy: 0.9174\n",
            "Epoch 5/25\n",
            "59/59 [==============================] - 14s 220ms/step - loss: 0.1686 - accuracy: 0.9613 - val_loss: 0.2577 - val_accuracy: 0.9131\n",
            "Epoch 6/25\n",
            "59/59 [==============================] - 15s 220ms/step - loss: 0.1434 - accuracy: 0.9661 - val_loss: 0.2467 - val_accuracy: 0.9195\n",
            "Epoch 7/25\n",
            "59/59 [==============================] - 15s 217ms/step - loss: 0.1266 - accuracy: 0.9682 - val_loss: 0.2376 - val_accuracy: 0.9174\n",
            "Epoch 8/25\n",
            "59/59 [==============================] - 15s 219ms/step - loss: 0.1097 - accuracy: 0.9762 - val_loss: 0.2260 - val_accuracy: 0.9237\n",
            "Epoch 9/25\n",
            "59/59 [==============================] - 14s 219ms/step - loss: 0.0980 - accuracy: 0.9820 - val_loss: 0.2267 - val_accuracy: 0.9195\n",
            "Epoch 10/25\n",
            "59/59 [==============================] - 14s 218ms/step - loss: 0.0875 - accuracy: 0.9836 - val_loss: 0.2187 - val_accuracy: 0.9258\n",
            "Epoch 11/25\n",
            "59/59 [==============================] - 14s 220ms/step - loss: 0.0782 - accuracy: 0.9857 - val_loss: 0.2165 - val_accuracy: 0.9237\n",
            "Epoch 12/25\n",
            "59/59 [==============================] - 15s 221ms/step - loss: 0.0697 - accuracy: 0.9899 - val_loss: 0.2161 - val_accuracy: 0.9216\n",
            "Epoch 13/25\n",
            "59/59 [==============================] - 15s 223ms/step - loss: 0.0634 - accuracy: 0.9889 - val_loss: 0.2210 - val_accuracy: 0.9280\n",
            "Epoch 14/25\n",
            "59/59 [==============================] - 15s 223ms/step - loss: 0.0579 - accuracy: 0.9915 - val_loss: 0.2068 - val_accuracy: 0.9258\n",
            "Epoch 15/25\n",
            "59/59 [==============================] - 14s 217ms/step - loss: 0.0520 - accuracy: 0.9942 - val_loss: 0.2082 - val_accuracy: 0.9237\n",
            "Epoch 16/25\n",
            "59/59 [==============================] - 14s 217ms/step - loss: 0.0477 - accuracy: 0.9947 - val_loss: 0.2070 - val_accuracy: 0.9258\n",
            "Epoch 17/25\n",
            "59/59 [==============================] - 15s 221ms/step - loss: 0.0441 - accuracy: 0.9968 - val_loss: 0.2064 - val_accuracy: 0.9280\n",
            "Epoch 18/25\n",
            "59/59 [==============================] - 15s 221ms/step - loss: 0.0403 - accuracy: 0.9968 - val_loss: 0.2030 - val_accuracy: 0.9258\n",
            "Epoch 19/25\n",
            "59/59 [==============================] - 15s 221ms/step - loss: 0.0372 - accuracy: 0.9963 - val_loss: 0.2021 - val_accuracy: 0.9280\n",
            "Epoch 20/25\n",
            "59/59 [==============================] - 14s 218ms/step - loss: 0.0343 - accuracy: 0.9984 - val_loss: 0.2020 - val_accuracy: 0.9301\n",
            "Epoch 21/25\n",
            "59/59 [==============================] - 14s 218ms/step - loss: 0.0321 - accuracy: 0.9984 - val_loss: 0.2026 - val_accuracy: 0.9301\n",
            "Epoch 22/25\n",
            "59/59 [==============================] - 14s 219ms/step - loss: 0.0302 - accuracy: 0.9984 - val_loss: 0.1998 - val_accuracy: 0.9280\n",
            "Epoch 23/25\n",
            "59/59 [==============================] - 14s 219ms/step - loss: 0.0276 - accuracy: 0.9995 - val_loss: 0.1977 - val_accuracy: 0.9322\n",
            "Epoch 24/25\n",
            "59/59 [==============================] - 14s 217ms/step - loss: 0.0261 - accuracy: 0.9995 - val_loss: 0.2028 - val_accuracy: 0.9322\n",
            "Epoch 25/25\n",
            "59/59 [==============================] - 15s 218ms/step - loss: 0.0238 - accuracy: 1.0000 - val_loss: 0.1993 - val_accuracy: 0.9322\n"
          ]
        }
      ]
    },
    {
      "cell_type": "markdown",
      "source": [
        "### EfficientnetB3 V2"
      ],
      "metadata": {
        "id": "IWr60pun1uCE"
      }
    },
    {
      "cell_type": "code",
      "source": [
        "efficientnet_b3_v2 = Sequential([\n",
        "    Lambda(efficientnet_preproccessing,\n",
        "           input_shape=INPUT_SHAPE),\n",
        "\n",
        "    EfficientNetV2B3(include_top=False,\n",
        "                     weights=\"imagenet\",\n",
        "                     pooling=\"avg\",\n",
        "                     input_shape=INPUT_SHAPE),\n",
        "\n",
        "    Dense(units=5,\n",
        "          activation=\"softmax\")\n",
        "])\n",
        "\n",
        "efficientnet_b3_v2.layers[1].trainable = False\n",
        "\n",
        "efficientnet_b3_v2.summary()"
      ],
      "metadata": {
        "colab": {
          "base_uri": "https://localhost:8080/"
        },
        "id": "O9vUhazP1wls",
        "outputId": "27b7758b-2970-4f89-ac3b-edb8f6cec1f3"
      },
      "execution_count": null,
      "outputs": [
        {
          "output_type": "stream",
          "name": "stdout",
          "text": [
            "Downloading data from https://storage.googleapis.com/tensorflow/keras-applications/efficientnet_v2/efficientnetv2-b3_notop.h5\n",
            "52606240/52606240 [==============================] - 2s 0us/step\n",
            "Model: \"sequential_3\"\n",
            "_________________________________________________________________\n",
            " Layer (type)                Output Shape              Param #   \n",
            "=================================================================\n",
            " lambda_3 (Lambda)           (None, 224, 224, 3)       0         \n",
            "                                                                 \n",
            " efficientnetv2-b3 (Functio  (None, 1536)              12930622  \n",
            " nal)                                                            \n",
            "                                                                 \n",
            " dense_3 (Dense)             (None, 5)                 7685      \n",
            "                                                                 \n",
            "=================================================================\n",
            "Total params: 12938307 (49.36 MB)\n",
            "Trainable params: 7685 (30.02 KB)\n",
            "Non-trainable params: 12930622 (49.33 MB)\n",
            "_________________________________________________________________\n"
          ]
        }
      ]
    },
    {
      "cell_type": "code",
      "source": [
        "efficientnet_b3_v2.compile(optimizer=Adam(),\n",
        "                           loss=SparseCategoricalCrossentropy(),\n",
        "                           metrics=[\"accuracy\"])\n",
        "\n",
        "efficientnet_b3_v2_csv_logger = CSVLogger(\"/content/transfer/efficientnet_b3_v2.log\")\n",
        "\n",
        "hist_efficientnet_b3_v2 = efficientnet_b3_v2.fit(train_ds,\n",
        "                                                 epochs=25,\n",
        "                                                 steps_per_epoch=len(train_ds),\n",
        "                                                 validation_data=val_ds,\n",
        "                                                 validation_steps=len(val_ds),\n",
        "                                                 callbacks=[efficientnet_b3_v2_csv_logger])"
      ],
      "metadata": {
        "colab": {
          "base_uri": "https://localhost:8080/"
        },
        "id": "cd_PyuQz10i4",
        "outputId": "955f63a0-d649-4e72-e9ec-9564434960e6"
      },
      "execution_count": null,
      "outputs": [
        {
          "output_type": "stream",
          "name": "stdout",
          "text": [
            "Epoch 1/25\n",
            "59/59 [==============================] - 30s 286ms/step - loss: 0.8340 - accuracy: 0.7188 - val_loss: 0.4691 - val_accuracy: 0.8559\n",
            "Epoch 2/25\n",
            "59/59 [==============================] - 15s 222ms/step - loss: 0.4090 - accuracy: 0.8856 - val_loss: 0.3304 - val_accuracy: 0.9174\n",
            "Epoch 3/25\n",
            "59/59 [==============================] - 15s 224ms/step - loss: 0.2981 - accuracy: 0.9232 - val_loss: 0.2727 - val_accuracy: 0.9364\n",
            "Epoch 4/25\n",
            "59/59 [==============================] - 15s 224ms/step - loss: 0.2391 - accuracy: 0.9401 - val_loss: 0.2386 - val_accuracy: 0.9428\n",
            "Epoch 5/25\n",
            "59/59 [==============================] - 15s 223ms/step - loss: 0.2097 - accuracy: 0.9513 - val_loss: 0.2165 - val_accuracy: 0.9449\n",
            "Epoch 6/25\n",
            "59/59 [==============================] - 15s 222ms/step - loss: 0.1851 - accuracy: 0.9560 - val_loss: 0.2034 - val_accuracy: 0.9449\n",
            "Epoch 7/25\n",
            "59/59 [==============================] - 15s 221ms/step - loss: 0.1735 - accuracy: 0.9513 - val_loss: 0.1922 - val_accuracy: 0.9513\n",
            "Epoch 8/25\n",
            "59/59 [==============================] - 15s 220ms/step - loss: 0.1597 - accuracy: 0.9582 - val_loss: 0.1822 - val_accuracy: 0.9555\n",
            "Epoch 9/25\n",
            "59/59 [==============================] - 15s 222ms/step - loss: 0.1407 - accuracy: 0.9656 - val_loss: 0.1742 - val_accuracy: 0.9534\n",
            "Epoch 10/25\n",
            "59/59 [==============================] - 14s 220ms/step - loss: 0.1382 - accuracy: 0.9666 - val_loss: 0.1692 - val_accuracy: 0.9555\n",
            "Epoch 11/25\n",
            "59/59 [==============================] - 15s 223ms/step - loss: 0.1237 - accuracy: 0.9725 - val_loss: 0.1636 - val_accuracy: 0.9597\n",
            "Epoch 12/25\n",
            "59/59 [==============================] - 15s 224ms/step - loss: 0.1145 - accuracy: 0.9703 - val_loss: 0.1595 - val_accuracy: 0.9597\n",
            "Epoch 13/25\n",
            "59/59 [==============================] - 15s 224ms/step - loss: 0.1036 - accuracy: 0.9783 - val_loss: 0.1570 - val_accuracy: 0.9555\n",
            "Epoch 14/25\n",
            "59/59 [==============================] - 15s 223ms/step - loss: 0.1068 - accuracy: 0.9740 - val_loss: 0.1540 - val_accuracy: 0.9576\n",
            "Epoch 15/25\n",
            "59/59 [==============================] - 15s 224ms/step - loss: 0.0960 - accuracy: 0.9767 - val_loss: 0.1526 - val_accuracy: 0.9576\n",
            "Epoch 16/25\n",
            "59/59 [==============================] - 14s 219ms/step - loss: 0.0905 - accuracy: 0.9809 - val_loss: 0.1507 - val_accuracy: 0.9576\n",
            "Epoch 17/25\n",
            "59/59 [==============================] - 14s 220ms/step - loss: 0.0867 - accuracy: 0.9804 - val_loss: 0.1470 - val_accuracy: 0.9576\n",
            "Epoch 18/25\n",
            "59/59 [==============================] - 14s 219ms/step - loss: 0.0872 - accuracy: 0.9841 - val_loss: 0.1479 - val_accuracy: 0.9640\n",
            "Epoch 19/25\n",
            "59/59 [==============================] - 14s 220ms/step - loss: 0.0811 - accuracy: 0.9799 - val_loss: 0.1449 - val_accuracy: 0.9597\n",
            "Epoch 20/25\n",
            "59/59 [==============================] - 15s 221ms/step - loss: 0.0712 - accuracy: 0.9852 - val_loss: 0.1432 - val_accuracy: 0.9597\n",
            "Epoch 21/25\n",
            "59/59 [==============================] - 14s 219ms/step - loss: 0.0746 - accuracy: 0.9804 - val_loss: 0.1395 - val_accuracy: 0.9661\n",
            "Epoch 22/25\n",
            "59/59 [==============================] - 15s 223ms/step - loss: 0.0672 - accuracy: 0.9841 - val_loss: 0.1401 - val_accuracy: 0.9682\n",
            "Epoch 23/25\n",
            "59/59 [==============================] - 15s 222ms/step - loss: 0.0660 - accuracy: 0.9852 - val_loss: 0.1372 - val_accuracy: 0.9640\n",
            "Epoch 24/25\n",
            "59/59 [==============================] - 15s 221ms/step - loss: 0.0684 - accuracy: 0.9836 - val_loss: 0.1355 - val_accuracy: 0.9661\n",
            "Epoch 25/25\n",
            "59/59 [==============================] - 15s 222ms/step - loss: 0.0679 - accuracy: 0.9852 - val_loss: 0.1366 - val_accuracy: 0.9619\n"
          ]
        }
      ]
    },
    {
      "cell_type": "markdown",
      "source": [
        "## Visualisations"
      ],
      "metadata": {
        "id": "ThMv-4CvNOhX"
      }
    },
    {
      "cell_type": "markdown",
      "source": [
        "### Loading logs"
      ],
      "metadata": {
        "id": "BVgHqDmXNiAB"
      }
    },
    {
      "cell_type": "code",
      "source": [
        "eff_b3_v2 = pd.read_csv(\"/content/transfer/efficientnet_b3_v2.log\")\n",
        "mobile_v2 = pd.read_csv(\"/content/transfer/mobilenet_v2.log\")\n",
        "res50_v2 = pd.read_csv(\"/content/transfer/res50_v2.log\")\n",
        "vgg19 = pd.read_csv(\"/content/transfer/vgg_19.log\")\n",
        "\n",
        "models = [vgg19, res50_v2, mobile_v2,eff_b3_v2]\n",
        "names = [\"VGG 19\", \"ResNet50 V2\", \"MobileNet V2\", \"Efficientnet B3 V2\"]\n",
        "colours = [\"#048a7c\", \"#25bdf0\", \"#78ba41\", \"#08aca4\"]"
      ],
      "metadata": {
        "id": "NdARXwXcNQEM"
      },
      "execution_count": null,
      "outputs": []
    },
    {
      "cell_type": "markdown",
      "source": [
        "### Validation Losses"
      ],
      "metadata": {
        "id": "vmCkGQ1mO-u-"
      }
    },
    {
      "cell_type": "code",
      "source": [
        "fig, ax = plt.subplots(figsize=(12,6), nrows=1, ncols=2)\n",
        "\n",
        "for model, name, colour in zip(models, names, colours):\n",
        "\n",
        "  sns.lineplot(data=model,\n",
        "               x=\"epoch\",\n",
        "               y=\"val_loss\",\n",
        "               ax=ax[0],\n",
        "               label=name,\n",
        "               linewidth=2,\n",
        "               color=colour)\n",
        "\n",
        "  if name != \"VGG 19\":\n",
        "\n",
        "    sns.lineplot(data=model,\n",
        "               x=\"epoch\",\n",
        "               y=\"val_loss\",\n",
        "               ax=ax[1],\n",
        "               label=name,\n",
        "               linewidth=2,\n",
        "               color=colour)\n",
        "\n",
        "ax[0].set_xlabel(\"Epoch\")\n",
        "ax[0].set_ylabel(\"Categorical Crossentropy\")\n",
        "ax[0].set_title(\"Validation Loss (with VGG 19)\")\n",
        "ax[0].set_ylim((0, 4))\n",
        "ax[0].legend()\n",
        "\n",
        "ax[1].set_xlabel(\"Epoch\")\n",
        "ax[1].set_ylabel(\"Categorical Crossentropy\")\n",
        "ax[1].set_title(\"Validation Loss (without VGG 19)\")\n",
        "ax[1].set_ylim((0, 0.5))\n",
        "ax[1].legend()\n",
        "\n",
        "plt.show()"
      ],
      "metadata": {
        "colab": {
          "base_uri": "https://localhost:8080/",
          "height": 573
        },
        "id": "inq8VrrxNMof",
        "outputId": "7821c09b-23c7-4769-ec2f-e90936ce7b63"
      },
      "execution_count": null,
      "outputs": [
        {
          "output_type": "display_data",
          "data": {
            "text/plain": [
              "<Figure size 1200x600 with 2 Axes>"
            ],
            "image/png": "[encoded data removed]"
          },
          "metadata": {}
        }
      ]
    },
    {
      "cell_type": "markdown",
      "source": [
        "### Validation Accuracies"
      ],
      "metadata": {
        "id": "1AJs6P0HO9hi"
      }
    },
    {
      "cell_type": "code",
      "source": [
        "fig, ax = plt.subplots(figsize=(7,6), nrows=1, ncols=1)\n",
        "\n",
        "for model, name, colour in zip(models, names, colours):\n",
        "\n",
        "  sns.lineplot(data=model,\n",
        "               x=\"epoch\",\n",
        "               y=\"val_accuracy\",\n",
        "               ax=ax,\n",
        "               label=name,\n",
        "               linewidth=2,\n",
        "               color=colour)\n",
        "\n",
        "ax.set_xlabel(\"Epoch\")\n",
        "ax.set_ylabel(\"Accuracy (%)\")\n",
        "ax.set_title(\"Validation Accuracies\")\n",
        "ax.set_ylim((0.6, 1))\n",
        "ax.legend()\n",
        "\n",
        "plt.show()"
      ],
      "metadata": {
        "colab": {
          "base_uri": "https://localhost:8080/",
          "height": 573
        },
        "id": "Lb_9qov5PC4A",
        "outputId": "ab70cc05-0f12-4187-dd2d-fead32208a77"
      },
      "execution_count": null,
      "outputs": [
        {
          "output_type": "display_data",
          "data": {
            "text/plain": [
              "<Figure size 700x600 with 1 Axes>"
            ],
            "image/png": "[encoded data removed]"
          },
          "metadata": {}
        }
      ]
    }
  ]
}